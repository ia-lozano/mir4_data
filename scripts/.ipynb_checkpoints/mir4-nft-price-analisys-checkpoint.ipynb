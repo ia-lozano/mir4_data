{
 "cells": [
  {
   "cell_type": "markdown",
   "id": "f26b2461",
   "metadata": {
    "_cell_guid": "b1076dfc-b9ad-4769-8c92-a6c4dae69d19",
    "_uuid": "8f2839f25d086af736a60e9eeb907d3b93b6e0e5",
    "papermill": {
     "duration": 0.01115,
     "end_time": "2025-01-26T01:27:18.072949",
     "exception": false,
     "start_time": "2025-01-26T01:27:18.061799",
     "status": "completed"
    },
    "tags": []
   },
   "source": [
    "# Exploratory Data Analisys (EDA) for Mir4 nft market, overview"
   ]
  },
  {
   "cell_type": "markdown",
   "id": "bef6fadf",
   "metadata": {
    "papermill": {
     "duration": 0.01038,
     "end_time": "2025-01-26T01:27:18.094248",
     "exception": false,
     "start_time": "2025-01-26T01:27:18.083868",
     "status": "completed"
    },
    "tags": []
   },
   "source": [
    "In this project im going to get some insights about the price in the nft market for Mir4, like the correlation between price and level or price and powerscore, check if there's outliers and remove them if necessary, data comes already clean from the scraping. At the end of this project i'm going to deploy an IA model to predict the price of a nft according to its features.\n",
    "\n",
    "Refer to https://mir4global.com/ and https://www.xdraco.com/nft/list/ for more information.\n",
    "\n",
    "I'll work with a csv file scraped with the following script, using Selenium: https://github.com/ia-lozano/webScraping-projects/tree/master/mir4Scraper\n",
    "\n",
    "The CSV file contains 4 features: <br>\n",
    "\n",
    "Class: Character's Class <br>\n",
    "Level: Character's Level <br>\n",
    "Power: Character's raw powerscore <br>\n",
    "Price: Price in Wemix (1 Wemix ~ 0.8 USD at the moment of this analisys)"
   ]
  },
  {
   "cell_type": "code",
   "execution_count": 1,
   "id": "6b6c84b8",
   "metadata": {
    "execution": {
     "iopub.execute_input": "2025-01-26T01:27:18.117652Z",
     "iopub.status.busy": "2025-01-26T01:27:18.117233Z",
     "iopub.status.idle": "2025-01-26T01:27:20.803972Z",
     "shell.execute_reply": "2025-01-26T01:27:20.803034Z"
    },
    "papermill": {
     "duration": 2.700676,
     "end_time": "2025-01-26T01:27:20.805821",
     "exception": false,
     "start_time": "2025-01-26T01:27:18.105145",
     "status": "completed"
    },
    "tags": []
   },
   "outputs": [],
   "source": [
    "import pandas as pd\n",
    "import numpy as np\n",
    "import matplotlib.pyplot as plt\n",
    "import seaborn as sns"
   ]
  },
  {
   "cell_type": "markdown",
   "id": "2082f3ae",
   "metadata": {
    "papermill": {
     "duration": 0.009825,
     "end_time": "2025-01-26T01:27:20.826465",
     "exception": false,
     "start_time": "2025-01-26T01:27:20.816640",
     "status": "completed"
    },
    "tags": []
   },
   "source": [
    "# 1. Importing Dataset"
   ]
  },
  {
   "cell_type": "code",
   "execution_count": 2,
   "id": "142c0baf",
   "metadata": {
    "execution": {
     "iopub.execute_input": "2025-01-26T01:27:20.854071Z",
     "iopub.status.busy": "2025-01-26T01:27:20.853507Z",
     "iopub.status.idle": "2025-01-26T01:27:20.884336Z",
     "shell.execute_reply": "2025-01-26T01:27:20.882859Z"
    },
    "papermill": {
     "duration": 0.048104,
     "end_time": "2025-01-26T01:27:20.886675",
     "exception": false,
     "start_time": "2025-01-26T01:27:20.838571",
     "status": "completed"
    },
    "tags": []
   },
   "outputs": [],
   "source": [
    "df = pd.read_csv('/kaggle/input/mir-4-nft-list/mir4nft.csv')"
   ]
  },
  {
   "cell_type": "markdown",
   "id": "5f4a17a5",
   "metadata": {
    "papermill": {
     "duration": 0.010632,
     "end_time": "2025-01-26T01:27:20.910023",
     "exception": false,
     "start_time": "2025-01-26T01:27:20.899391",
     "status": "completed"
    },
    "tags": []
   },
   "source": [
    "# 2. Working with the Data Frame"
   ]
  },
  {
   "cell_type": "code",
   "execution_count": 3,
   "id": "5b611ad9",
   "metadata": {
    "execution": {
     "iopub.execute_input": "2025-01-26T01:27:20.936288Z",
     "iopub.status.busy": "2025-01-26T01:27:20.935883Z",
     "iopub.status.idle": "2025-01-26T01:27:20.953895Z",
     "shell.execute_reply": "2025-01-26T01:27:20.952740Z"
    },
    "papermill": {
     "duration": 0.031285,
     "end_time": "2025-01-26T01:27:20.955810",
     "exception": false,
     "start_time": "2025-01-26T01:27:20.924525",
     "status": "completed"
    },
    "tags": []
   },
   "outputs": [
    {
     "data": {
      "text/html": [
       "<div>\n",
       "<style scoped>\n",
       "    .dataframe tbody tr th:only-of-type {\n",
       "        vertical-align: middle;\n",
       "    }\n",
       "\n",
       "    .dataframe tbody tr th {\n",
       "        vertical-align: top;\n",
       "    }\n",
       "\n",
       "    .dataframe thead th {\n",
       "        text-align: right;\n",
       "    }\n",
       "</style>\n",
       "<table border=\"1\" class=\"dataframe\">\n",
       "  <thead>\n",
       "    <tr style=\"text-align: right;\">\n",
       "      <th></th>\n",
       "      <th>class</th>\n",
       "      <th>level</th>\n",
       "      <th>power</th>\n",
       "      <th>price</th>\n",
       "    </tr>\n",
       "  </thead>\n",
       "  <tbody>\n",
       "    <tr>\n",
       "      <th>0</th>\n",
       "      <td>warrior</td>\n",
       "      <td>131</td>\n",
       "      <td>276583</td>\n",
       "      <td>260</td>\n",
       "    </tr>\n",
       "    <tr>\n",
       "      <th>1</th>\n",
       "      <td>lancer</td>\n",
       "      <td>148</td>\n",
       "      <td>383103</td>\n",
       "      <td>3449</td>\n",
       "    </tr>\n",
       "    <tr>\n",
       "      <th>2</th>\n",
       "      <td>arbalist</td>\n",
       "      <td>142</td>\n",
       "      <td>313845</td>\n",
       "      <td>580</td>\n",
       "    </tr>\n",
       "    <tr>\n",
       "      <th>3</th>\n",
       "      <td>warrior</td>\n",
       "      <td>135</td>\n",
       "      <td>301520</td>\n",
       "      <td>320</td>\n",
       "    </tr>\n",
       "    <tr>\n",
       "      <th>4</th>\n",
       "      <td>arbalist</td>\n",
       "      <td>142</td>\n",
       "      <td>325002</td>\n",
       "      <td>950</td>\n",
       "    </tr>\n",
       "  </tbody>\n",
       "</table>\n",
       "</div>"
      ],
      "text/plain": [
       "      class  level   power  price\n",
       "0   warrior    131  276583    260\n",
       "1    lancer    148  383103   3449\n",
       "2  arbalist    142  313845    580\n",
       "3   warrior    135  301520    320\n",
       "4  arbalist    142  325002    950"
      ]
     },
     "execution_count": 3,
     "metadata": {},
     "output_type": "execute_result"
    }
   ],
   "source": [
    "df.head(5)"
   ]
  },
  {
   "cell_type": "code",
   "execution_count": 4,
   "id": "7f52985e",
   "metadata": {
    "execution": {
     "iopub.execute_input": "2025-01-26T01:27:20.977905Z",
     "iopub.status.busy": "2025-01-26T01:27:20.977485Z",
     "iopub.status.idle": "2025-01-26T01:27:20.985019Z",
     "shell.execute_reply": "2025-01-26T01:27:20.983697Z"
    },
    "papermill": {
     "duration": 0.020727,
     "end_time": "2025-01-26T01:27:20.987014",
     "exception": false,
     "start_time": "2025-01-26T01:27:20.966287",
     "status": "completed"
    },
    "tags": []
   },
   "outputs": [
    {
     "data": {
      "text/plain": [
       "class    object\n",
       "level     int64\n",
       "power     int64\n",
       "price     int64\n",
       "dtype: object"
      ]
     },
     "execution_count": 4,
     "metadata": {},
     "output_type": "execute_result"
    }
   ],
   "source": [
    "# Checking if the data types are the correct ones to work with\n",
    "df.dtypes"
   ]
  },
  {
   "cell_type": "code",
   "execution_count": 5,
   "id": "7083c5b4",
   "metadata": {
    "execution": {
     "iopub.execute_input": "2025-01-26T01:27:21.021019Z",
     "iopub.status.busy": "2025-01-26T01:27:21.020589Z",
     "iopub.status.idle": "2025-01-26T01:27:21.026934Z",
     "shell.execute_reply": "2025-01-26T01:27:21.025866Z"
    },
    "papermill": {
     "duration": 0.026234,
     "end_time": "2025-01-26T01:27:21.029335",
     "exception": false,
     "start_time": "2025-01-26T01:27:21.003101",
     "status": "completed"
    },
    "tags": []
   },
   "outputs": [
    {
     "data": {
      "text/plain": [
       "(1338, 4)"
      ]
     },
     "execution_count": 5,
     "metadata": {},
     "output_type": "execute_result"
    }
   ],
   "source": [
    "# Checking how many rows and columns do we have\n",
    "df.shape"
   ]
  },
  {
   "cell_type": "markdown",
   "id": "12514c1a",
   "metadata": {
    "papermill": {
     "duration": 0.014197,
     "end_time": "2025-01-26T01:27:21.062530",
     "exception": false,
     "start_time": "2025-01-26T01:27:21.048333",
     "status": "completed"
    },
    "tags": []
   },
   "source": [
    "# 3. Descriptive Statistics (taking a look)"
   ]
  },
  {
   "cell_type": "code",
   "execution_count": 6,
   "id": "5258a51b",
   "metadata": {
    "execution": {
     "iopub.execute_input": "2025-01-26T01:27:21.101780Z",
     "iopub.status.busy": "2025-01-26T01:27:21.101161Z",
     "iopub.status.idle": "2025-01-26T01:27:21.132056Z",
     "shell.execute_reply": "2025-01-26T01:27:21.130929Z"
    },
    "papermill": {
     "duration": 0.053773,
     "end_time": "2025-01-26T01:27:21.133877",
     "exception": false,
     "start_time": "2025-01-26T01:27:21.080104",
     "status": "completed"
    },
    "tags": []
   },
   "outputs": [
    {
     "data": {
      "text/html": [
       "<div>\n",
       "<style scoped>\n",
       "    .dataframe tbody tr th:only-of-type {\n",
       "        vertical-align: middle;\n",
       "    }\n",
       "\n",
       "    .dataframe tbody tr th {\n",
       "        vertical-align: top;\n",
       "    }\n",
       "\n",
       "    .dataframe thead th {\n",
       "        text-align: right;\n",
       "    }\n",
       "</style>\n",
       "<table border=\"1\" class=\"dataframe\">\n",
       "  <thead>\n",
       "    <tr style=\"text-align: right;\">\n",
       "      <th></th>\n",
       "      <th>level</th>\n",
       "      <th>power</th>\n",
       "      <th>price</th>\n",
       "    </tr>\n",
       "  </thead>\n",
       "  <tbody>\n",
       "    <tr>\n",
       "      <th>count</th>\n",
       "      <td>1338.000000</td>\n",
       "      <td>1338.000000</td>\n",
       "      <td>1338.000000</td>\n",
       "    </tr>\n",
       "    <tr>\n",
       "      <th>mean</th>\n",
       "      <td>132.614350</td>\n",
       "      <td>284273.349776</td>\n",
       "      <td>979.218984</td>\n",
       "    </tr>\n",
       "    <tr>\n",
       "      <th>std</th>\n",
       "      <td>16.212847</td>\n",
       "      <td>71848.816289</td>\n",
       "      <td>2803.482321</td>\n",
       "    </tr>\n",
       "    <tr>\n",
       "      <th>min</th>\n",
       "      <td>71.000000</td>\n",
       "      <td>101563.000000</td>\n",
       "      <td>23.000000</td>\n",
       "    </tr>\n",
       "    <tr>\n",
       "      <th>25%</th>\n",
       "      <td>130.000000</td>\n",
       "      <td>249128.000000</td>\n",
       "      <td>170.000000</td>\n",
       "    </tr>\n",
       "    <tr>\n",
       "      <th>50%</th>\n",
       "      <td>136.000000</td>\n",
       "      <td>297201.000000</td>\n",
       "      <td>380.000000</td>\n",
       "    </tr>\n",
       "    <tr>\n",
       "      <th>75%</th>\n",
       "      <td>142.000000</td>\n",
       "      <td>326400.000000</td>\n",
       "      <td>777.000000</td>\n",
       "    </tr>\n",
       "    <tr>\n",
       "      <th>max</th>\n",
       "      <td>165.000000</td>\n",
       "      <td>533347.000000</td>\n",
       "      <td>53000.000000</td>\n",
       "    </tr>\n",
       "  </tbody>\n",
       "</table>\n",
       "</div>"
      ],
      "text/plain": [
       "             level          power         price\n",
       "count  1338.000000    1338.000000   1338.000000\n",
       "mean    132.614350  284273.349776    979.218984\n",
       "std      16.212847   71848.816289   2803.482321\n",
       "min      71.000000  101563.000000     23.000000\n",
       "25%     130.000000  249128.000000    170.000000\n",
       "50%     136.000000  297201.000000    380.000000\n",
       "75%     142.000000  326400.000000    777.000000\n",
       "max     165.000000  533347.000000  53000.000000"
      ]
     },
     "execution_count": 6,
     "metadata": {},
     "output_type": "execute_result"
    }
   ],
   "source": [
    "df.describe()"
   ]
  },
  {
   "cell_type": "markdown",
   "id": "5fc80df3",
   "metadata": {
    "papermill": {
     "duration": 0.013557,
     "end_time": "2025-01-26T01:27:21.158377",
     "exception": false,
     "start_time": "2025-01-26T01:27:21.144820",
     "status": "completed"
    },
    "tags": []
   },
   "source": [
    "# 4. Drawing plots"
   ]
  },
  {
   "cell_type": "markdown",
   "id": "6fe74634",
   "metadata": {
    "papermill": {
     "duration": 0.011145,
     "end_time": "2025-01-26T01:27:21.185713",
     "exception": false,
     "start_time": "2025-01-26T01:27:21.174568",
     "status": "completed"
    },
    "tags": []
   },
   "source": [
    "# 4.1. Histogram & Distribution Plot"
   ]
  },
  {
   "cell_type": "code",
   "execution_count": 7,
   "id": "747d7f4e",
   "metadata": {
    "execution": {
     "iopub.execute_input": "2025-01-26T01:27:21.214260Z",
     "iopub.status.busy": "2025-01-26T01:27:21.213898Z",
     "iopub.status.idle": "2025-01-26T01:27:22.257940Z",
     "shell.execute_reply": "2025-01-26T01:27:22.256644Z"
    },
    "papermill": {
     "duration": 1.060298,
     "end_time": "2025-01-26T01:27:22.259866",
     "exception": false,
     "start_time": "2025-01-26T01:27:21.199568",
     "status": "completed"
    },
    "tags": []
   },
   "outputs": [
    {
     "name": "stderr",
     "output_type": "stream",
     "text": [
      "/usr/local/lib/python3.10/dist-packages/seaborn/_oldcore.py:1119: FutureWarning: use_inf_as_na option is deprecated and will be removed in a future version. Convert inf values to NaN before operating instead.\n",
      "  with pd.option_context('mode.use_inf_as_na', True):\n"
     ]
    },
    {
     "data": {
      "text/plain": [
       "Text(0.5, 1.0, 'Price distribution')"
      ]
     },
     "execution_count": 7,
     "metadata": {},
     "output_type": "execute_result"
    },
    {
     "data": {
      "image/png": "[encoded data removed]",
      "text/plain": [
       "<Figure size 1300x500 with 1 Axes>"
      ]
     },
     "metadata": {},
     "output_type": "display_data"
    }
   ],
   "source": [
    "plt.figure(figsize=(13,5))\n",
    "sns.histplot(df['price'])\n",
    "plt.title('Price distribution')"
   ]
  },
  {
   "cell_type": "code",
   "execution_count": 8,
   "id": "d1ed5869",
   "metadata": {
    "execution": {
     "iopub.execute_input": "2025-01-26T01:27:22.284064Z",
     "iopub.status.busy": "2025-01-26T01:27:22.283584Z",
     "iopub.status.idle": "2025-01-26T01:27:23.313410Z",
     "shell.execute_reply": "2025-01-26T01:27:23.312285Z"
    },
    "papermill": {
     "duration": 1.043686,
     "end_time": "2025-01-26T01:27:23.315293",
     "exception": false,
     "start_time": "2025-01-26T01:27:22.271607",
     "status": "completed"
    },
    "tags": []
   },
   "outputs": [
    {
     "name": "stderr",
     "output_type": "stream",
     "text": [
      "/usr/local/lib/python3.10/dist-packages/seaborn/_oldcore.py:1119: FutureWarning: use_inf_as_na option is deprecated and will be removed in a future version. Convert inf values to NaN before operating instead.\n",
      "  with pd.option_context('mode.use_inf_as_na', True):\n"
     ]
    },
    {
     "data": {
      "image/png": "[encoded data removed]",
      "text/plain": [
       "<Figure size 1300x500 with 1 Axes>"
      ]
     },
     "metadata": {},
     "output_type": "display_data"
    }
   ],
   "source": [
    "# Zooming in\n",
    "plt.figure(figsize=(13,5))\n",
    "sns.histplot(df['price'])\n",
    "\n",
    "# Adjusting x-axis\n",
    "plt.xlim(0,2000)\n",
    "plt.xticks(np.arange(0, 2001, 200))\n",
    "plt.title('Price distribution - Zoomed In')\n",
    "plt.show()"
   ]
  },
  {
   "cell_type": "code",
   "execution_count": 9,
   "id": "2d0849ae",
   "metadata": {
    "execution": {
     "iopub.execute_input": "2025-01-26T01:27:23.340793Z",
     "iopub.status.busy": "2025-01-26T01:27:23.340407Z",
     "iopub.status.idle": "2025-01-26T01:27:23.347287Z",
     "shell.execute_reply": "2025-01-26T01:27:23.345809Z"
    },
    "papermill": {
     "duration": 0.021916,
     "end_time": "2025-01-26T01:27:23.349163",
     "exception": false,
     "start_time": "2025-01-26T01:27:23.327247",
     "status": "completed"
    },
    "tags": []
   },
   "outputs": [
    {
     "name": "stdout",
     "output_type": "stream",
     "text": [
      "Skew:      11.810737747566254 \n",
      "Kurtosis: 174.63015012115318\n"
     ]
    }
   ],
   "source": [
    "# Getting Skew & Kurtosis\n",
    "print(f'Skew:      {df[\"price\"].skew()} \\nKurtosis: {df[\"price\"].kurtosis()}')"
   ]
  },
  {
   "cell_type": "markdown",
   "id": "b4cd70ae",
   "metadata": {
    "papermill": {
     "duration": 0.01222,
     "end_time": "2025-01-26T01:27:23.373483",
     "exception": false,
     "start_time": "2025-01-26T01:27:23.361263",
     "status": "completed"
    },
    "tags": []
   },
   "source": [
    "The data is highly right-skewed and is way higher than 3, the normal distribution kurtosis. which means that there is very expensive nfts listed but most of the nfts have \"low\" prices, around less than 100 and 400 Wemix."
   ]
  },
  {
   "cell_type": "markdown",
   "id": "36735ae1",
   "metadata": {
    "papermill": {
     "duration": 0.013589,
     "end_time": "2025-01-26T01:27:23.401120",
     "exception": false,
     "start_time": "2025-01-26T01:27:23.387531",
     "status": "completed"
    },
    "tags": []
   },
   "source": [
    "# 4.2 Scatter Plots"
   ]
  },
  {
   "cell_type": "code",
   "execution_count": 10,
   "id": "b508e064",
   "metadata": {
    "execution": {
     "iopub.execute_input": "2025-01-26T01:27:23.431277Z",
     "iopub.status.busy": "2025-01-26T01:27:23.430705Z",
     "iopub.status.idle": "2025-01-26T01:27:23.444572Z",
     "shell.execute_reply": "2025-01-26T01:27:23.443313Z"
    },
    "papermill": {
     "duration": 0.03266,
     "end_time": "2025-01-26T01:27:23.446821",
     "exception": false,
     "start_time": "2025-01-26T01:27:23.414161",
     "status": "completed"
    },
    "tags": []
   },
   "outputs": [
    {
     "data": {
      "text/html": [
       "<div>\n",
       "<style scoped>\n",
       "    .dataframe tbody tr th:only-of-type {\n",
       "        vertical-align: middle;\n",
       "    }\n",
       "\n",
       "    .dataframe tbody tr th {\n",
       "        vertical-align: top;\n",
       "    }\n",
       "\n",
       "    .dataframe thead th {\n",
       "        text-align: right;\n",
       "    }\n",
       "</style>\n",
       "<table border=\"1\" class=\"dataframe\">\n",
       "  <thead>\n",
       "    <tr style=\"text-align: right;\">\n",
       "      <th></th>\n",
       "      <th>price</th>\n",
       "      <th>power</th>\n",
       "    </tr>\n",
       "  </thead>\n",
       "  <tbody>\n",
       "    <tr>\n",
       "      <th>0</th>\n",
       "      <td>260</td>\n",
       "      <td>276583</td>\n",
       "    </tr>\n",
       "    <tr>\n",
       "      <th>1</th>\n",
       "      <td>3449</td>\n",
       "      <td>383103</td>\n",
       "    </tr>\n",
       "    <tr>\n",
       "      <th>2</th>\n",
       "      <td>580</td>\n",
       "      <td>313845</td>\n",
       "    </tr>\n",
       "    <tr>\n",
       "      <th>3</th>\n",
       "      <td>320</td>\n",
       "      <td>301520</td>\n",
       "    </tr>\n",
       "    <tr>\n",
       "      <th>4</th>\n",
       "      <td>950</td>\n",
       "      <td>325002</td>\n",
       "    </tr>\n",
       "  </tbody>\n",
       "</table>\n",
       "</div>"
      ],
      "text/plain": [
       "   price   power\n",
       "0    260  276583\n",
       "1   3449  383103\n",
       "2    580  313845\n",
       "3    320  301520\n",
       "4    950  325002"
      ]
     },
     "execution_count": 10,
     "metadata": {},
     "output_type": "execute_result"
    }
   ],
   "source": [
    "var = 'power'\n",
    "price_power = pd.concat([df['price'], df[var]], axis=1) # Price vs power table\n",
    "price_power.head(5)"
   ]
  },
  {
   "cell_type": "code",
   "execution_count": 11,
   "id": "5c6be72b",
   "metadata": {
    "execution": {
     "iopub.execute_input": "2025-01-26T01:27:23.473816Z",
     "iopub.status.busy": "2025-01-26T01:27:23.473360Z",
     "iopub.status.idle": "2025-01-26T01:27:23.797212Z",
     "shell.execute_reply": "2025-01-26T01:27:23.796056Z"
    },
    "papermill": {
     "duration": 0.339532,
     "end_time": "2025-01-26T01:27:23.799265",
     "exception": false,
     "start_time": "2025-01-26T01:27:23.459733",
     "status": "completed"
    },
    "tags": []
   },
   "outputs": [
    {
     "data": {
      "text/plain": [
       "<Axes: title={'center': 'Power vs Price'}, xlabel='power', ylabel='price'>"
      ]
     },
     "execution_count": 11,
     "metadata": {},
     "output_type": "execute_result"
    },
    {
     "data": {
      "image/png": "[encoded data removed]",
      "text/plain": [
       "<Figure size 640x480 with 1 Axes>"
      ]
     },
     "metadata": {},
     "output_type": "display_data"
    }
   ],
   "source": [
    "price_power.plot.scatter(x=var, y='price', title='Power vs Price')"
   ]
  },
  {
   "cell_type": "markdown",
   "id": "55273fff",
   "metadata": {
    "papermill": {
     "duration": 0.01258,
     "end_time": "2025-01-26T01:27:23.824735",
     "exception": false,
     "start_time": "2025-01-26T01:27:23.812155",
     "status": "completed"
    },
    "tags": []
   },
   "source": [
    "It seems that the price is and exponential function of the power, lets take a look at the correlation between Price vs Level"
   ]
  },
  {
   "cell_type": "code",
   "execution_count": 12,
   "id": "87ba5cdb",
   "metadata": {
    "execution": {
     "iopub.execute_input": "2025-01-26T01:27:23.853457Z",
     "iopub.status.busy": "2025-01-26T01:27:23.853085Z",
     "iopub.status.idle": "2025-01-26T01:27:23.863109Z",
     "shell.execute_reply": "2025-01-26T01:27:23.861983Z"
    },
    "papermill": {
     "duration": 0.026166,
     "end_time": "2025-01-26T01:27:23.864877",
     "exception": false,
     "start_time": "2025-01-26T01:27:23.838711",
     "status": "completed"
    },
    "tags": []
   },
   "outputs": [
    {
     "data": {
      "text/html": [
       "<div>\n",
       "<style scoped>\n",
       "    .dataframe tbody tr th:only-of-type {\n",
       "        vertical-align: middle;\n",
       "    }\n",
       "\n",
       "    .dataframe tbody tr th {\n",
       "        vertical-align: top;\n",
       "    }\n",
       "\n",
       "    .dataframe thead th {\n",
       "        text-align: right;\n",
       "    }\n",
       "</style>\n",
       "<table border=\"1\" class=\"dataframe\">\n",
       "  <thead>\n",
       "    <tr style=\"text-align: right;\">\n",
       "      <th></th>\n",
       "      <th>price</th>\n",
       "      <th>level</th>\n",
       "    </tr>\n",
       "  </thead>\n",
       "  <tbody>\n",
       "    <tr>\n",
       "      <th>0</th>\n",
       "      <td>260</td>\n",
       "      <td>131</td>\n",
       "    </tr>\n",
       "    <tr>\n",
       "      <th>1</th>\n",
       "      <td>3449</td>\n",
       "      <td>148</td>\n",
       "    </tr>\n",
       "    <tr>\n",
       "      <th>2</th>\n",
       "      <td>580</td>\n",
       "      <td>142</td>\n",
       "    </tr>\n",
       "    <tr>\n",
       "      <th>3</th>\n",
       "      <td>320</td>\n",
       "      <td>135</td>\n",
       "    </tr>\n",
       "    <tr>\n",
       "      <th>4</th>\n",
       "      <td>950</td>\n",
       "      <td>142</td>\n",
       "    </tr>\n",
       "  </tbody>\n",
       "</table>\n",
       "</div>"
      ],
      "text/plain": [
       "   price  level\n",
       "0    260    131\n",
       "1   3449    148\n",
       "2    580    142\n",
       "3    320    135\n",
       "4    950    142"
      ]
     },
     "execution_count": 12,
     "metadata": {},
     "output_type": "execute_result"
    }
   ],
   "source": [
    "var = 'level'\n",
    "price_level = pd.concat([df['price'], df[var]], axis=1)\n",
    "price_level.head(5)"
   ]
  },
  {
   "cell_type": "code",
   "execution_count": 13,
   "id": "dc6d201b",
   "metadata": {
    "execution": {
     "iopub.execute_input": "2025-01-26T01:27:23.894248Z",
     "iopub.status.busy": "2025-01-26T01:27:23.893839Z",
     "iopub.status.idle": "2025-01-26T01:27:24.126967Z",
     "shell.execute_reply": "2025-01-26T01:27:24.125628Z"
    },
    "papermill": {
     "duration": 0.249379,
     "end_time": "2025-01-26T01:27:24.129169",
     "exception": false,
     "start_time": "2025-01-26T01:27:23.879790",
     "status": "completed"
    },
    "tags": []
   },
   "outputs": [
    {
     "data": {
      "text/plain": [
       "<Axes: title={'center': 'Level vs Price'}, xlabel='level', ylabel='price'>"
      ]
     },
     "execution_count": 13,
     "metadata": {},
     "output_type": "execute_result"
    },
    {
     "data": {
      "image/png": "[encoded data removed]",
      "text/plain": [
       "<Figure size 640x480 with 1 Axes>"
      ]
     },
     "metadata": {},
     "output_type": "display_data"
    }
   ],
   "source": [
    "price_level.plot.scatter(x=var, y='price', title='Level vs Price')"
   ]
  },
  {
   "cell_type": "markdown",
   "id": "2e698c6a",
   "metadata": {
    "papermill": {
     "duration": 0.013265,
     "end_time": "2025-01-26T01:27:24.155869",
     "exception": false,
     "start_time": "2025-01-26T01:27:24.142604",
     "status": "completed"
    },
    "tags": []
   },
   "source": [
    "The correlation between level and price seems to be also an exponential correlation, makes sense, the more level, the more powerfull the character is.\n",
    "\n",
    "However, the correlation between power and price seems to be stronger. Actually, a more leveled character doesn't necessary means a more powerful character.\n",
    "\n",
    "Lets zoom in both charts, for this im going to limit the price from 0 to 2000 wemix and the power and level from 100,000 and 350,000 and from 60 to 130 respectively."
   ]
  },
  {
   "cell_type": "code",
   "execution_count": 14,
   "id": "3cbda70b",
   "metadata": {
    "execution": {
     "iopub.execute_input": "2025-01-26T01:27:24.184078Z",
     "iopub.status.busy": "2025-01-26T01:27:24.183642Z",
     "iopub.status.idle": "2025-01-26T01:27:24.500463Z",
     "shell.execute_reply": "2025-01-26T01:27:24.499349Z"
    },
    "papermill": {
     "duration": 0.333283,
     "end_time": "2025-01-26T01:27:24.502542",
     "exception": false,
     "start_time": "2025-01-26T01:27:24.169259",
     "status": "completed"
    },
    "tags": []
   },
   "outputs": [
    {
     "data": {
      "text/plain": [
       "<Axes: title={'center': 'Power vs Price - Zoomed In'}, xlabel='power', ylabel='price'>"
      ]
     },
     "execution_count": 14,
     "metadata": {},
     "output_type": "execute_result"
    },
    {
     "data": {
      "image/png": "[encoded data removed]",
      "text/plain": [
       "<Figure size 640x480 with 1 Axes>"
      ]
     },
     "metadata": {},
     "output_type": "display_data"
    }
   ],
   "source": [
    "# Zooming in Price vs Power plot\n",
    "var = 'power'\n",
    "price_power = pd.concat([df['price'], df[var]], axis=1)\n",
    "price_power.plot.scatter(x=var, y='price', title='Power vs Price - Zoomed In', ylim=(0,2000), xlim=(100000,350000))"
   ]
  },
  {
   "cell_type": "code",
   "execution_count": 15,
   "id": "9c4bf439",
   "metadata": {
    "execution": {
     "iopub.execute_input": "2025-01-26T01:27:24.533156Z",
     "iopub.status.busy": "2025-01-26T01:27:24.532470Z",
     "iopub.status.idle": "2025-01-26T01:27:24.892202Z",
     "shell.execute_reply": "2025-01-26T01:27:24.890844Z"
    },
    "papermill": {
     "duration": 0.376923,
     "end_time": "2025-01-26T01:27:24.894083",
     "exception": false,
     "start_time": "2025-01-26T01:27:24.517160",
     "status": "completed"
    },
    "tags": []
   },
   "outputs": [
    {
     "data": {
      "text/plain": [
       "<Axes: title={'center': 'Level vs Price'}, xlabel='level', ylabel='price'>"
      ]
     },
     "execution_count": 15,
     "metadata": {},
     "output_type": "execute_result"
    },
    {
     "data": {
      "image/png": "[encoded data removed]",
      "text/plain": [
       "<Figure size 640x480 with 1 Axes>"
      ]
     },
     "metadata": {},
     "output_type": "display_data"
    }
   ],
   "source": [
    "# Zooming in Price vs Level plot\n",
    "var = 'level'\n",
    "price_level = pd.concat([df['price'], df[var]], axis=1)\n",
    "price_level.plot.scatter(x=var, y='price', title='Level vs Price', ylim=(0, 2000), xlim=(60, 150))"
   ]
  },
  {
   "cell_type": "markdown",
   "id": "051f3221",
   "metadata": {
    "papermill": {
     "duration": 0.015245,
     "end_time": "2025-01-26T01:27:24.925028",
     "exception": false,
     "start_time": "2025-01-26T01:27:24.909783",
     "status": "completed"
    },
    "tags": []
   },
   "source": [
    "In the Level vs Price plot I had to raise the level limit to 150, and even so the correlation seems to be weak. If I wanted to predict the price using a polynomial regression I'd use the Powerscore as a feature.\n",
    "\n",
    "But... What happens if I want to sell a nft betwen 100,000 and 250,000 powerscore (an achievable free to play character). Lets zoom in even more into the Power vs Price chart."
   ]
  },
  {
   "cell_type": "code",
   "execution_count": 16,
   "id": "ca7b0daa",
   "metadata": {
    "execution": {
     "iopub.execute_input": "2025-01-26T01:27:24.958325Z",
     "iopub.status.busy": "2025-01-26T01:27:24.957902Z",
     "iopub.status.idle": "2025-01-26T01:27:25.244877Z",
     "shell.execute_reply": "2025-01-26T01:27:25.242096Z"
    },
    "papermill": {
     "duration": 0.307545,
     "end_time": "2025-01-26T01:27:25.248804",
     "exception": false,
     "start_time": "2025-01-26T01:27:24.941259",
     "status": "completed"
    },
    "tags": []
   },
   "outputs": [
    {
     "data": {
      "text/plain": [
       "<Axes: title={'center': 'Power vs Price - Zoomed In'}, xlabel='power', ylabel='price'>"
      ]
     },
     "execution_count": 16,
     "metadata": {},
     "output_type": "execute_result"
    },
    {
     "data": {
      "image/png": "[encoded data removed]",
      "text/plain": [
       "<Figure size 640x480 with 1 Axes>"
      ]
     },
     "metadata": {},
     "output_type": "display_data"
    }
   ],
   "source": [
    "# Zooming in even more...\n",
    "var = 'power'\n",
    "price_power = pd.concat([df['price'], df[var]], axis=1)\n",
    "price_power.plot.scatter(x=var, y='price', title='Power vs Price - Zoomed In', ylim=(0, 400), xlim=(100000, 250000))"
   ]
  },
  {
   "cell_type": "code",
   "execution_count": 17,
   "id": "145553a4",
   "metadata": {
    "execution": {
     "iopub.execute_input": "2025-01-26T01:27:25.293051Z",
     "iopub.status.busy": "2025-01-26T01:27:25.292566Z",
     "iopub.status.idle": "2025-01-26T01:27:25.570336Z",
     "shell.execute_reply": "2025-01-26T01:27:25.568907Z"
    },
    "papermill": {
     "duration": 0.297666,
     "end_time": "2025-01-26T01:27:25.572394",
     "exception": false,
     "start_time": "2025-01-26T01:27:25.274728",
     "status": "completed"
    },
    "tags": []
   },
   "outputs": [
    {
     "data": {
      "text/plain": [
       "<Axes: title={'center': 'Level vs Price - Zoomed In'}, xlabel='level', ylabel='price'>"
      ]
     },
     "execution_count": 17,
     "metadata": {},
     "output_type": "execute_result"
    },
    {
     "data": {
      "image/png": "[encoded data removed]",
      "text/plain": [
       "<Figure size 640x480 with 1 Axes>"
      ]
     },
     "metadata": {},
     "output_type": "display_data"
    }
   ],
   "source": [
    "# Zooming even more in Price vs Level plot\n",
    "var = 'level'\n",
    "price_level = pd.concat([df['price'], df[var]], axis=1)\n",
    "price_level.plot.scatter(x=var, y='price', title='Level vs Price - Zoomed In', ylim=(0, 400), xlim=(60,120))"
   ]
  },
  {
   "cell_type": "markdown",
   "id": "43913396",
   "metadata": {
    "papermill": {
     "duration": 0.016408,
     "end_time": "2025-01-26T01:27:25.608108",
     "exception": false,
     "start_time": "2025-01-26T01:27:25.591700",
     "status": "completed"
    },
    "tags": []
   },
   "source": [
    "Probably I could use a multiple linear regression to predict the price at lower levels and powerscores. I'll do that later and see how it goes."
   ]
  },
  {
   "cell_type": "markdown",
   "id": "b6163b0a",
   "metadata": {
    "papermill": {
     "duration": 0.016905,
     "end_time": "2025-01-26T01:27:25.642044",
     "exception": false,
     "start_time": "2025-01-26T01:27:25.625139",
     "status": "completed"
    },
    "tags": []
   },
   "source": [
    "# 4.3 Box Plots (Categorical Data)"
   ]
  },
  {
   "cell_type": "markdown",
   "id": "26908a0f",
   "metadata": {
    "papermill": {
     "duration": 0.016313,
     "end_time": "2025-01-26T01:27:25.674995",
     "exception": false,
     "start_time": "2025-01-26T01:27:25.658682",
     "status": "completed"
    },
    "tags": []
   },
   "source": [
    "What about character class? Does it influence the price somehow? <br> lets find out.."
   ]
  },
  {
   "cell_type": "code",
   "execution_count": 18,
   "id": "9ef11608",
   "metadata": {
    "execution": {
     "iopub.execute_input": "2025-01-26T01:27:25.710329Z",
     "iopub.status.busy": "2025-01-26T01:27:25.709896Z",
     "iopub.status.idle": "2025-01-26T01:27:25.720794Z",
     "shell.execute_reply": "2025-01-26T01:27:25.719342Z"
    },
    "papermill": {
     "duration": 0.030707,
     "end_time": "2025-01-26T01:27:25.722620",
     "exception": false,
     "start_time": "2025-01-26T01:27:25.691913",
     "status": "completed"
    },
    "tags": []
   },
   "outputs": [
    {
     "data": {
      "text/html": [
       "<div>\n",
       "<style scoped>\n",
       "    .dataframe tbody tr th:only-of-type {\n",
       "        vertical-align: middle;\n",
       "    }\n",
       "\n",
       "    .dataframe tbody tr th {\n",
       "        vertical-align: top;\n",
       "    }\n",
       "\n",
       "    .dataframe thead th {\n",
       "        text-align: right;\n",
       "    }\n",
       "</style>\n",
       "<table border=\"1\" class=\"dataframe\">\n",
       "  <thead>\n",
       "    <tr style=\"text-align: right;\">\n",
       "      <th></th>\n",
       "      <th>price</th>\n",
       "      <th>class</th>\n",
       "    </tr>\n",
       "  </thead>\n",
       "  <tbody>\n",
       "    <tr>\n",
       "      <th>0</th>\n",
       "      <td>260</td>\n",
       "      <td>warrior</td>\n",
       "    </tr>\n",
       "    <tr>\n",
       "      <th>1</th>\n",
       "      <td>3449</td>\n",
       "      <td>lancer</td>\n",
       "    </tr>\n",
       "    <tr>\n",
       "      <th>2</th>\n",
       "      <td>580</td>\n",
       "      <td>arbalist</td>\n",
       "    </tr>\n",
       "    <tr>\n",
       "      <th>3</th>\n",
       "      <td>320</td>\n",
       "      <td>warrior</td>\n",
       "    </tr>\n",
       "    <tr>\n",
       "      <th>4</th>\n",
       "      <td>950</td>\n",
       "      <td>arbalist</td>\n",
       "    </tr>\n",
       "  </tbody>\n",
       "</table>\n",
       "</div>"
      ],
      "text/plain": [
       "   price     class\n",
       "0    260   warrior\n",
       "1   3449    lancer\n",
       "2    580  arbalist\n",
       "3    320   warrior\n",
       "4    950  arbalist"
      ]
     },
     "execution_count": 18,
     "metadata": {},
     "output_type": "execute_result"
    }
   ],
   "source": [
    "# Price and class table\n",
    "var = 'class'\n",
    "price_class = pd.concat([df['price'], df[var]], axis=1)\n",
    "price_class.head(5)"
   ]
  },
  {
   "cell_type": "code",
   "execution_count": 19,
   "id": "a4dba29f",
   "metadata": {
    "execution": {
     "iopub.execute_input": "2025-01-26T01:27:25.758382Z",
     "iopub.status.busy": "2025-01-26T01:27:25.757994Z",
     "iopub.status.idle": "2025-01-26T01:27:25.986303Z",
     "shell.execute_reply": "2025-01-26T01:27:25.984889Z"
    },
    "papermill": {
     "duration": 0.248328,
     "end_time": "2025-01-26T01:27:25.988143",
     "exception": false,
     "start_time": "2025-01-26T01:27:25.739815",
     "status": "completed"
    },
    "tags": []
   },
   "outputs": [
    {
     "data": {
      "text/plain": [
       "<Axes: xlabel='class', ylabel='price'>"
      ]
     },
     "execution_count": 19,
     "metadata": {},
     "output_type": "execute_result"
    },
    {
     "data": {
      "image/png": "[encoded data removed]",
      "text/plain": [
       "<Figure size 640x480 with 1 Axes>"
      ]
     },
     "metadata": {},
     "output_type": "display_data"
    }
   ],
   "source": [
    "# First glance\n",
    "sns.boxplot(x=var, y='price', data=price_class)"
   ]
  },
  {
   "cell_type": "code",
   "execution_count": 20,
   "id": "99c52b20",
   "metadata": {
    "execution": {
     "iopub.execute_input": "2025-01-26T01:27:26.030397Z",
     "iopub.status.busy": "2025-01-26T01:27:26.029981Z",
     "iopub.status.idle": "2025-01-26T01:27:26.267776Z",
     "shell.execute_reply": "2025-01-26T01:27:26.266480Z"
    },
    "papermill": {
     "duration": 0.263148,
     "end_time": "2025-01-26T01:27:26.269673",
     "exception": false,
     "start_time": "2025-01-26T01:27:26.006525",
     "status": "completed"
    },
    "tags": []
   },
   "outputs": [
    {
     "data": {
      "text/plain": [
       "(-0.5, 5.5, 0.0, 2000.0)"
      ]
     },
     "execution_count": 20,
     "metadata": {},
     "output_type": "execute_result"
    },
    {
     "data": {
      "image/png": "[encoded data removed]",
      "text/plain": [
       "<Figure size 640x480 with 1 Axes>"
      ]
     },
     "metadata": {},
     "output_type": "display_data"
    }
   ],
   "source": [
    "# Zooming in\n",
    "boxplot = sns.boxplot(x=var, y='price', data=price_class)\n",
    "boxplot.axis(ymin=0, ymax=2000)"
   ]
  },
  {
   "cell_type": "markdown",
   "id": "41b01577",
   "metadata": {
    "papermill": {
     "duration": 0.017655,
     "end_time": "2025-01-26T01:27:26.305617",
     "exception": false,
     "start_time": "2025-01-26T01:27:26.287962",
     "status": "completed"
    },
    "tags": []
   },
   "source": [
    "The class seems to have an influence in the price, lancers have the most consistent low price, meanwhile warriors, arbalists and taoists have more disperse price ranges and strong outliers, darkists and sorcerers have more stable price range than warriors, arbalists and taoists, but still have disperse price ranges.  <br>\n",
    "According to this boxplot, selling a warrior, arbalist or taoist could give you a higher price, which strongly depends on the powerscore as we saw before. So a warrior, taoist or arbalist with high powerscores are the best options to sell."
   ]
  },
  {
   "cell_type": "markdown",
   "id": "7930feb6",
   "metadata": {
    "papermill": {
     "duration": 0.017662,
     "end_time": "2025-01-26T01:27:26.341162",
     "exception": false,
     "start_time": "2025-01-26T01:27:26.323500",
     "status": "completed"
    },
    "tags": []
   },
   "source": [
    "# 4.4 Heat Map"
   ]
  },
  {
   "cell_type": "code",
   "execution_count": 21,
   "id": "765c4a5c",
   "metadata": {
    "execution": {
     "iopub.execute_input": "2025-01-26T01:27:26.380547Z",
     "iopub.status.busy": "2025-01-26T01:27:26.379676Z",
     "iopub.status.idle": "2025-01-26T01:27:26.392662Z",
     "shell.execute_reply": "2025-01-26T01:27:26.391381Z"
    },
    "papermill": {
     "duration": 0.035529,
     "end_time": "2025-01-26T01:27:26.394699",
     "exception": false,
     "start_time": "2025-01-26T01:27:26.359170",
     "status": "completed"
    },
    "tags": []
   },
   "outputs": [
    {
     "data": {
      "text/html": [
       "<div>\n",
       "<style scoped>\n",
       "    .dataframe tbody tr th:only-of-type {\n",
       "        vertical-align: middle;\n",
       "    }\n",
       "\n",
       "    .dataframe tbody tr th {\n",
       "        vertical-align: top;\n",
       "    }\n",
       "\n",
       "    .dataframe thead th {\n",
       "        text-align: right;\n",
       "    }\n",
       "</style>\n",
       "<table border=\"1\" class=\"dataframe\">\n",
       "  <thead>\n",
       "    <tr style=\"text-align: right;\">\n",
       "      <th></th>\n",
       "      <th>level</th>\n",
       "      <th>power</th>\n",
       "      <th>price</th>\n",
       "    </tr>\n",
       "  </thead>\n",
       "  <tbody>\n",
       "    <tr>\n",
       "      <th>0</th>\n",
       "      <td>131</td>\n",
       "      <td>276583</td>\n",
       "      <td>260</td>\n",
       "    </tr>\n",
       "    <tr>\n",
       "      <th>1</th>\n",
       "      <td>148</td>\n",
       "      <td>383103</td>\n",
       "      <td>3449</td>\n",
       "    </tr>\n",
       "    <tr>\n",
       "      <th>2</th>\n",
       "      <td>142</td>\n",
       "      <td>313845</td>\n",
       "      <td>580</td>\n",
       "    </tr>\n",
       "    <tr>\n",
       "      <th>3</th>\n",
       "      <td>135</td>\n",
       "      <td>301520</td>\n",
       "      <td>320</td>\n",
       "    </tr>\n",
       "    <tr>\n",
       "      <th>4</th>\n",
       "      <td>142</td>\n",
       "      <td>325002</td>\n",
       "      <td>950</td>\n",
       "    </tr>\n",
       "  </tbody>\n",
       "</table>\n",
       "</div>"
      ],
      "text/plain": [
       "   level   power  price\n",
       "0    131  276583    260\n",
       "1    148  383103   3449\n",
       "2    142  313845    580\n",
       "3    135  301520    320\n",
       "4    142  325002    950"
      ]
     },
     "execution_count": 21,
     "metadata": {},
     "output_type": "execute_result"
    }
   ],
   "source": [
    "# Building a correlation matrix\n",
    "\n",
    "# First lets remove categorical data\n",
    "df_corr = df.drop(['class'], axis=1)\n",
    "df_corr.head(5)"
   ]
  },
  {
   "cell_type": "code",
   "execution_count": 22,
   "id": "46b272d0",
   "metadata": {
    "execution": {
     "iopub.execute_input": "2025-01-26T01:27:26.435032Z",
     "iopub.status.busy": "2025-01-26T01:27:26.434612Z",
     "iopub.status.idle": "2025-01-26T01:27:26.792248Z",
     "shell.execute_reply": "2025-01-26T01:27:26.791083Z"
    },
    "papermill": {
     "duration": 0.379616,
     "end_time": "2025-01-26T01:27:26.794223",
     "exception": false,
     "start_time": "2025-01-26T01:27:26.414607",
     "status": "completed"
    },
    "tags": []
   },
   "outputs": [
    {
     "data": {
      "image/png": "[encoded data removed]",
      "text/plain": [
       "<Figure size 640x480 with 3 Axes>"
      ]
     },
     "metadata": {},
     "output_type": "display_data"
    }
   ],
   "source": [
    "corrmat = df_corr.corr()\n",
    "sns.heatmap(corrmat, vmax=1, square=True) # vmax = gradient (1 for a perfect correlation)\n",
    "k = 1000 # top k values\n",
    "cols = corrmat.nlargest(k, 'price')['price'].index # Selecting the top k features with the strongest correlation with Price\n",
    "cm = np.corrcoef(df_corr[cols].values.T) # Computing Pearson correlation coefficient matrix\n",
    "sns.set(font_scale=1.25) # Setting font size in the plot\n",
    "hmap = sns.heatmap(cm, cbar=True, annot=True, square=True, fmt='.2f', annot_kws={'size': 10}, yticklabels=cols.values, xticklabels=cols.values)\n",
    "plt.show()"
   ]
  },
  {
   "cell_type": "markdown",
   "id": "f1dc4077",
   "metadata": {
    "papermill": {
     "duration": 0.018116,
     "end_time": "2025-01-26T01:27:26.831170",
     "exception": false,
     "start_time": "2025-01-26T01:27:26.813054",
     "status": "completed"
    },
    "tags": []
   },
   "source": [
    "Definetely the correlation between Price and Power, Level is not linear, as we saw before in the scatter plots section. However, they're still correlated, having the strongest correlation with the powerscore."
   ]
  },
  {
   "cell_type": "markdown",
   "id": "65ba43b5",
   "metadata": {
    "papermill": {
     "duration": 0.01864,
     "end_time": "2025-01-26T01:27:26.868138",
     "exception": false,
     "start_time": "2025-01-26T01:27:26.849498",
     "status": "completed"
    },
    "tags": []
   },
   "source": [
    "# 5. Data Preprocessing for IA regression models"
   ]
  },
  {
   "cell_type": "markdown",
   "id": "ce921067",
   "metadata": {
    "papermill": {
     "duration": 0.018286,
     "end_time": "2025-01-26T01:27:26.907064",
     "exception": false,
     "start_time": "2025-01-26T01:27:26.888778",
     "status": "completed"
    },
    "tags": []
   },
   "source": [
    "# 5.1 Data cleaning and preprocessing"
   ]
  },
  {
   "cell_type": "code",
   "execution_count": 23,
   "id": "676c61c7",
   "metadata": {
    "execution": {
     "iopub.execute_input": "2025-01-26T01:27:26.946236Z",
     "iopub.status.busy": "2025-01-26T01:27:26.945843Z",
     "iopub.status.idle": "2025-01-26T01:27:26.955839Z",
     "shell.execute_reply": "2025-01-26T01:27:26.954880Z"
    },
    "papermill": {
     "duration": 0.031981,
     "end_time": "2025-01-26T01:27:26.957531",
     "exception": false,
     "start_time": "2025-01-26T01:27:26.925550",
     "status": "completed"
    },
    "tags": []
   },
   "outputs": [
    {
     "data": {
      "text/html": [
       "<div>\n",
       "<style scoped>\n",
       "    .dataframe tbody tr th:only-of-type {\n",
       "        vertical-align: middle;\n",
       "    }\n",
       "\n",
       "    .dataframe tbody tr th {\n",
       "        vertical-align: top;\n",
       "    }\n",
       "\n",
       "    .dataframe thead th {\n",
       "        text-align: right;\n",
       "    }\n",
       "</style>\n",
       "<table border=\"1\" class=\"dataframe\">\n",
       "  <thead>\n",
       "    <tr style=\"text-align: right;\">\n",
       "      <th></th>\n",
       "      <th>class</th>\n",
       "      <th>level</th>\n",
       "      <th>power</th>\n",
       "      <th>price</th>\n",
       "    </tr>\n",
       "  </thead>\n",
       "  <tbody>\n",
       "    <tr>\n",
       "      <th>0</th>\n",
       "      <td>warrior</td>\n",
       "      <td>131</td>\n",
       "      <td>276583</td>\n",
       "      <td>260</td>\n",
       "    </tr>\n",
       "    <tr>\n",
       "      <th>1</th>\n",
       "      <td>lancer</td>\n",
       "      <td>148</td>\n",
       "      <td>383103</td>\n",
       "      <td>3449</td>\n",
       "    </tr>\n",
       "    <tr>\n",
       "      <th>2</th>\n",
       "      <td>arbalist</td>\n",
       "      <td>142</td>\n",
       "      <td>313845</td>\n",
       "      <td>580</td>\n",
       "    </tr>\n",
       "    <tr>\n",
       "      <th>3</th>\n",
       "      <td>warrior</td>\n",
       "      <td>135</td>\n",
       "      <td>301520</td>\n",
       "      <td>320</td>\n",
       "    </tr>\n",
       "    <tr>\n",
       "      <th>4</th>\n",
       "      <td>arbalist</td>\n",
       "      <td>142</td>\n",
       "      <td>325002</td>\n",
       "      <td>950</td>\n",
       "    </tr>\n",
       "  </tbody>\n",
       "</table>\n",
       "</div>"
      ],
      "text/plain": [
       "      class  level   power  price\n",
       "0   warrior    131  276583    260\n",
       "1    lancer    148  383103   3449\n",
       "2  arbalist    142  313845    580\n",
       "3   warrior    135  301520    320\n",
       "4  arbalist    142  325002    950"
      ]
     },
     "execution_count": 23,
     "metadata": {},
     "output_type": "execute_result"
    }
   ],
   "source": [
    "# From now on we'll treat the Data Frame 'df' as 'dataset'\n",
    "dataset = df\n",
    "dataset.head(5)"
   ]
  },
  {
   "cell_type": "code",
   "execution_count": 24,
   "id": "1666ae3a",
   "metadata": {
    "execution": {
     "iopub.execute_input": "2025-01-26T01:27:26.996713Z",
     "iopub.status.busy": "2025-01-26T01:27:26.996354Z",
     "iopub.status.idle": "2025-01-26T01:27:27.003439Z",
     "shell.execute_reply": "2025-01-26T01:27:27.002133Z"
    },
    "papermill": {
     "duration": 0.028786,
     "end_time": "2025-01-26T01:27:27.005198",
     "exception": false,
     "start_time": "2025-01-26T01:27:26.976412",
     "status": "completed"
    },
    "tags": []
   },
   "outputs": [
    {
     "name": "stdout",
     "output_type": "stream",
     "text": [
      "Missing data per column\n",
      " class    0\n",
      "level    0\n",
      "power    0\n",
      "price    0\n",
      "dtype: int64\n"
     ]
    }
   ],
   "source": [
    "# Looking for missing data\n",
    "missing_data = dataset.isnull().sum()\n",
    "print('Missing data per column\\n', missing_data)"
   ]
  },
  {
   "cell_type": "code",
   "execution_count": 25,
   "id": "3fad3426",
   "metadata": {
    "execution": {
     "iopub.execute_input": "2025-01-26T01:27:27.044000Z",
     "iopub.status.busy": "2025-01-26T01:27:27.043561Z",
     "iopub.status.idle": "2025-01-26T01:27:27.049400Z",
     "shell.execute_reply": "2025-01-26T01:27:27.048215Z"
    },
    "papermill": {
     "duration": 0.02734,
     "end_time": "2025-01-26T01:27:27.051348",
     "exception": false,
     "start_time": "2025-01-26T01:27:27.024008",
     "status": "completed"
    },
    "tags": []
   },
   "outputs": [],
   "source": [
    "# Separating target variable from features, for polynomial regression i will take power only\n",
    "X = dataset.iloc[:, 2:-1].values\n",
    "y = dataset.iloc[:, -1].values"
   ]
  },
  {
   "cell_type": "code",
   "execution_count": 26,
   "id": "c13cf588",
   "metadata": {
    "execution": {
     "iopub.execute_input": "2025-01-26T01:27:27.090787Z",
     "iopub.status.busy": "2025-01-26T01:27:27.090358Z",
     "iopub.status.idle": "2025-01-26T01:27:27.095831Z",
     "shell.execute_reply": "2025-01-26T01:27:27.094557Z"
    },
    "papermill": {
     "duration": 0.027457,
     "end_time": "2025-01-26T01:27:27.097629",
     "exception": false,
     "start_time": "2025-01-26T01:27:27.070172",
     "status": "completed"
    },
    "tags": []
   },
   "outputs": [
    {
     "name": "stdout",
     "output_type": "stream",
     "text": [
      "[[276583]\n",
      " [383103]\n",
      " [313845]\n",
      " ...\n",
      " [307427]\n",
      " [293965]\n",
      " [327544]]\n"
     ]
    }
   ],
   "source": [
    "print(X)"
   ]
  },
  {
   "cell_type": "code",
   "execution_count": 27,
   "id": "88d1e8ae",
   "metadata": {
    "execution": {
     "iopub.execute_input": "2025-01-26T01:27:27.137711Z",
     "iopub.status.busy": "2025-01-26T01:27:27.137366Z",
     "iopub.status.idle": "2025-01-26T01:27:27.142265Z",
     "shell.execute_reply": "2025-01-26T01:27:27.141316Z"
    },
    "papermill": {
     "duration": 0.026646,
     "end_time": "2025-01-26T01:27:27.144043",
     "exception": false,
     "start_time": "2025-01-26T01:27:27.117397",
     "status": "completed"
    },
    "tags": []
   },
   "outputs": [
    {
     "name": "stdout",
     "output_type": "stream",
     "text": [
      "[ 260 3449  580 ...  470  650 4180]\n"
     ]
    }
   ],
   "source": [
    "print(y)"
   ]
  },
  {
   "cell_type": "markdown",
   "id": "d7d406b1",
   "metadata": {
    "papermill": {
     "duration": 0.018587,
     "end_time": "2025-01-26T01:27:27.181447",
     "exception": false,
     "start_time": "2025-01-26T01:27:27.162860",
     "status": "completed"
    },
    "tags": []
   },
   "source": [
    "# 5.2 Splitting dataset into Train and Test sets"
   ]
  },
  {
   "cell_type": "code",
   "execution_count": 28,
   "id": "f0afc054",
   "metadata": {
    "execution": {
     "iopub.execute_input": "2025-01-26T01:27:27.221610Z",
     "iopub.status.busy": "2025-01-26T01:27:27.221242Z",
     "iopub.status.idle": "2025-01-26T01:27:27.577585Z",
     "shell.execute_reply": "2025-01-26T01:27:27.576548Z"
    },
    "papermill": {
     "duration": 0.379207,
     "end_time": "2025-01-26T01:27:27.579705",
     "exception": false,
     "start_time": "2025-01-26T01:27:27.200498",
     "status": "completed"
    },
    "tags": []
   },
   "outputs": [],
   "source": [
    "from sklearn.model_selection import train_test_split\n",
    "X_train, X_test, y_train, y_test = train_test_split(X, y, test_size=0.2, random_state=1)"
   ]
  },
  {
   "cell_type": "markdown",
   "id": "4700fc2d",
   "metadata": {
    "papermill": {
     "duration": 0.018784,
     "end_time": "2025-01-26T01:27:27.618242",
     "exception": false,
     "start_time": "2025-01-26T01:27:27.599458",
     "status": "completed"
    },
    "tags": []
   },
   "source": [
    "# 6. Polynomial Regression"
   ]
  },
  {
   "cell_type": "markdown",
   "id": "49f0ac3a",
   "metadata": {
    "papermill": {
     "duration": 0.018704,
     "end_time": "2025-01-26T01:27:27.655962",
     "exception": false,
     "start_time": "2025-01-26T01:27:27.637258",
     "status": "completed"
    },
    "tags": []
   },
   "source": [
    "As we say in the EDA Section, the correlation between power and price seems to be polynomial. Also, the price strongly correlated to power rather than level or class."
   ]
  },
  {
   "cell_type": "code",
   "execution_count": 29,
   "id": "df92c6d2",
   "metadata": {
    "execution": {
     "iopub.execute_input": "2025-01-26T01:27:27.695882Z",
     "iopub.status.busy": "2025-01-26T01:27:27.695459Z",
     "iopub.status.idle": "2025-01-26T01:27:28.017355Z",
     "shell.execute_reply": "2025-01-26T01:27:28.016138Z"
    },
    "papermill": {
     "duration": 0.344379,
     "end_time": "2025-01-26T01:27:28.019299",
     "exception": false,
     "start_time": "2025-01-26T01:27:27.674920",
     "status": "completed"
    },
    "tags": []
   },
   "outputs": [
    {
     "data": {
      "text/plain": [
       "Text(0, 0.5, 'Price (Wemix)')"
      ]
     },
     "execution_count": 29,
     "metadata": {},
     "output_type": "execute_result"
    },
    {
     "data": {
      "image/png": "[encoded data removed]",
      "text/plain": [
       "<Figure size 640x480 with 1 Axes>"
      ]
     },
     "metadata": {},
     "output_type": "display_data"
    }
   ],
   "source": [
    "# Visualizing Power vs Price\n",
    "plt.scatter(X, y, color='red')\n",
    "plt.title('Power vs Price')\n",
    "plt.xlabel('Power Score')\n",
    "plt.ylabel('Price (Wemix)')"
   ]
  },
  {
   "cell_type": "code",
   "execution_count": 30,
   "id": "fef49fa1",
   "metadata": {
    "execution": {
     "iopub.execute_input": "2025-01-26T01:27:28.061196Z",
     "iopub.status.busy": "2025-01-26T01:27:28.060727Z",
     "iopub.status.idle": "2025-01-26T01:27:28.066536Z",
     "shell.execute_reply": "2025-01-26T01:27:28.065433Z"
    },
    "papermill": {
     "duration": 0.028587,
     "end_time": "2025-01-26T01:27:28.068289",
     "exception": false,
     "start_time": "2025-01-26T01:27:28.039702",
     "status": "completed"
    },
    "tags": []
   },
   "outputs": [],
   "source": [
    "# Splitting data into train and test sets\n",
    "from sklearn.model_selection import train_test_split\n",
    "X_train, X_test, y_train, y_test = train_test_split(X, y, test_size=0.2, random_state=1)"
   ]
  },
  {
   "cell_type": "code",
   "execution_count": 31,
   "id": "52eee90b",
   "metadata": {
    "execution": {
     "iopub.execute_input": "2025-01-26T01:27:28.109094Z",
     "iopub.status.busy": "2025-01-26T01:27:28.108612Z",
     "iopub.status.idle": "2025-01-26T01:27:28.271000Z",
     "shell.execute_reply": "2025-01-26T01:27:28.269884Z"
    },
    "papermill": {
     "duration": 0.185302,
     "end_time": "2025-01-26T01:27:28.273257",
     "exception": false,
     "start_time": "2025-01-26T01:27:28.087955",
     "status": "completed"
    },
    "tags": []
   },
   "outputs": [
    {
     "data": {
      "text/html": [
       "<style>#sk-container-id-1 {color: black;background-color: white;}#sk-container-id-1 pre{padding: 0;}#sk-container-id-1 div.sk-toggleable {background-color: white;}#sk-container-id-1 label.sk-toggleable__label {cursor: pointer;display: block;width: 100%;margin-bottom: 0;padding: 0.3em;box-sizing: border-box;text-align: center;}#sk-container-id-1 label.sk-toggleable__label-arrow:before {content: \"▸\";float: left;margin-right: 0.25em;color: #696969;}#sk-container-id-1 label.sk-toggleable__label-arrow:hover:before {color: black;}#sk-container-id-1 div.sk-estimator:hover label.sk-toggleable__label-arrow:before {color: black;}#sk-container-id-1 div.sk-toggleable__content {max-height: 0;max-width: 0;overflow: hidden;text-align: left;background-color: #f0f8ff;}#sk-container-id-1 div.sk-toggleable__content pre {margin: 0.2em;color: black;border-radius: 0.25em;background-color: #f0f8ff;}#sk-container-id-1 input.sk-toggleable__control:checked~div.sk-toggleable__content {max-height: 200px;max-width: 100%;overflow: auto;}#sk-container-id-1 input.sk-toggleable__control:checked~label.sk-toggleable__label-arrow:before {content: \"▾\";}#sk-container-id-1 div.sk-estimator input.sk-toggleable__control:checked~label.sk-toggleable__label {background-color: #d4ebff;}#sk-container-id-1 div.sk-label input.sk-toggleable__control:checked~label.sk-toggleable__label {background-color: #d4ebff;}#sk-container-id-1 input.sk-hidden--visually {border: 0;clip: rect(1px 1px 1px 1px);clip: rect(1px, 1px, 1px, 1px);height: 1px;margin: -1px;overflow: hidden;padding: 0;position: absolute;width: 1px;}#sk-container-id-1 div.sk-estimator {font-family: monospace;background-color: #f0f8ff;border: 1px dotted black;border-radius: 0.25em;box-sizing: border-box;margin-bottom: 0.5em;}#sk-container-id-1 div.sk-estimator:hover {background-color: #d4ebff;}#sk-container-id-1 div.sk-parallel-item::after {content: \"\";width: 100%;border-bottom: 1px solid gray;flex-grow: 1;}#sk-container-id-1 div.sk-label:hover label.sk-toggleable__label {background-color: #d4ebff;}#sk-container-id-1 div.sk-serial::before {content: \"\";position: absolute;border-left: 1px solid gray;box-sizing: border-box;top: 0;bottom: 0;left: 50%;z-index: 0;}#sk-container-id-1 div.sk-serial {display: flex;flex-direction: column;align-items: center;background-color: white;padding-right: 0.2em;padding-left: 0.2em;position: relative;}#sk-container-id-1 div.sk-item {position: relative;z-index: 1;}#sk-container-id-1 div.sk-parallel {display: flex;align-items: stretch;justify-content: center;background-color: white;position: relative;}#sk-container-id-1 div.sk-item::before, #sk-container-id-1 div.sk-parallel-item::before {content: \"\";position: absolute;border-left: 1px solid gray;box-sizing: border-box;top: 0;bottom: 0;left: 50%;z-index: -1;}#sk-container-id-1 div.sk-parallel-item {display: flex;flex-direction: column;z-index: 1;position: relative;background-color: white;}#sk-container-id-1 div.sk-parallel-item:first-child::after {align-self: flex-end;width: 50%;}#sk-container-id-1 div.sk-parallel-item:last-child::after {align-self: flex-start;width: 50%;}#sk-container-id-1 div.sk-parallel-item:only-child::after {width: 0;}#sk-container-id-1 div.sk-dashed-wrapped {border: 1px dashed gray;margin: 0 0.4em 0.5em 0.4em;box-sizing: border-box;padding-bottom: 0.4em;background-color: white;}#sk-container-id-1 div.sk-label label {font-family: monospace;font-weight: bold;display: inline-block;line-height: 1.2em;}#sk-container-id-1 div.sk-label-container {text-align: center;}#sk-container-id-1 div.sk-container {/* jupyter's `normalize.less` sets `[hidden] { display: none; }` but bootstrap.min.css set `[hidden] { display: none !important; }` so we also need the `!important` here to be able to override the default hidden behavior on the sphinx rendered scikit-learn.org. See: https://github.com/scikit-learn/scikit-learn/issues/21755 */display: inline-block !important;position: relative;}#sk-container-id-1 div.sk-text-repr-fallback {display: none;}</style><div id=\"sk-container-id-1\" class=\"sk-top-container\"><div class=\"sk-text-repr-fallback\"><pre>LinearRegression()</pre><b>In a Jupyter environment, please rerun this cell to show the HTML representation or trust the notebook. <br />On GitHub, the HTML representation is unable to render, please try loading this page with nbviewer.org.</b></div><div class=\"sk-container\" hidden><div class=\"sk-item\"><div class=\"sk-estimator sk-toggleable\"><input class=\"sk-toggleable__control sk-hidden--visually\" id=\"sk-estimator-id-1\" type=\"checkbox\" checked><label for=\"sk-estimator-id-1\" class=\"sk-toggleable__label sk-toggleable__label-arrow\">LinearRegression</label><div class=\"sk-toggleable__content\"><pre>LinearRegression()</pre></div></div></div></div></div>"
      ],
      "text/plain": [
       "LinearRegression()"
      ]
     },
     "execution_count": 31,
     "metadata": {},
     "output_type": "execute_result"
    }
   ],
   "source": [
    "# Training Polynomial Regression\n",
    "from sklearn.preprocessing import PolynomialFeatures\n",
    "from sklearn.linear_model import LinearRegression\n",
    "\n",
    "poly_reg = PolynomialFeatures(degree=10)\n",
    "X_poly = poly_reg.fit_transform(X_train)\n",
    "regressor = LinearRegression()\n",
    "regressor.fit(X_poly, y_train)"
   ]
  },
  {
   "cell_type": "code",
   "execution_count": 32,
   "id": "b9713aa3",
   "metadata": {
    "execution": {
     "iopub.execute_input": "2025-01-26T01:27:28.346297Z",
     "iopub.status.busy": "2025-01-26T01:27:28.345686Z",
     "iopub.status.idle": "2025-01-26T01:27:28.760004Z",
     "shell.execute_reply": "2025-01-26T01:27:28.758945Z"
    },
    "papermill": {
     "duration": 0.453193,
     "end_time": "2025-01-26T01:27:28.761656",
     "exception": false,
     "start_time": "2025-01-26T01:27:28.308463",
     "status": "completed"
    },
    "tags": []
   },
   "outputs": [
    {
     "data": {
      "image/png": "[encoded data removed]",
      "text/plain": [
       "<Figure size 640x480 with 1 Axes>"
      ]
     },
     "metadata": {},
     "output_type": "display_data"
    }
   ],
   "source": [
    "# Plot training points\n",
    "plt.scatter(X_train, y_train, color='red', label='Training Data')\n",
    "# Plot Polynomial Regression\n",
    "y_train_pred = regressor.predict(poly_reg.fit_transform(X_train))\n",
    "plt.scatter(X_train, y_train_pred, color='blue', label='Predicted training points')\n",
    "plt.title('Power vs Price')\n",
    "plt.xlabel('Power Score')\n",
    "plt.ylabel('Price (Wemix)')\n",
    "plt.legend()           \n",
    "plt.show()"
   ]
  },
  {
   "cell_type": "markdown",
   "id": "517e8c52",
   "metadata": {
    "papermill": {
     "duration": 0.021984,
     "end_time": "2025-01-26T01:27:28.806931",
     "exception": false,
     "start_time": "2025-01-26T01:27:28.784947",
     "status": "completed"
    },
    "tags": []
   },
   "source": [
    "# 6.1 Testing Results"
   ]
  },
  {
   "cell_type": "code",
   "execution_count": 33,
   "id": "aa47c338",
   "metadata": {
    "execution": {
     "iopub.execute_input": "2025-01-26T01:27:28.852708Z",
     "iopub.status.busy": "2025-01-26T01:27:28.852349Z",
     "iopub.status.idle": "2025-01-26T01:27:28.857578Z",
     "shell.execute_reply": "2025-01-26T01:27:28.856485Z"
    },
    "papermill": {
     "duration": 0.03008,
     "end_time": "2025-01-26T01:27:28.859213",
     "exception": false,
     "start_time": "2025-01-26T01:27:28.829133",
     "status": "completed"
    },
    "tags": []
   },
   "outputs": [],
   "source": [
    "# Taking a look at the model using the test set\n",
    "y_pred_test = regressor.predict(poly_reg.fit_transform(X_test))\n",
    "# print(np.concatenate((y_pred_test.reshape(len(y_pred_test),1), y_test.reshape(len(y_test),1)),1))"
   ]
  },
  {
   "cell_type": "markdown",
   "id": "28adb17c",
   "metadata": {
    "papermill": {
     "duration": 0.023054,
     "end_time": "2025-01-26T01:27:28.904596",
     "exception": false,
     "start_time": "2025-01-26T01:27:28.881542",
     "status": "completed"
    },
    "tags": []
   },
   "source": [
    "At first glance, performance is not the best, lets test obtain the metrics"
   ]
  },
  {
   "cell_type": "code",
   "execution_count": 34,
   "id": "8138b628",
   "metadata": {
    "execution": {
     "iopub.execute_input": "2025-01-26T01:27:28.950602Z",
     "iopub.status.busy": "2025-01-26T01:27:28.950201Z",
     "iopub.status.idle": "2025-01-26T01:27:28.960432Z",
     "shell.execute_reply": "2025-01-26T01:27:28.959445Z"
    },
    "papermill": {
     "duration": 0.035392,
     "end_time": "2025-01-26T01:27:28.962326",
     "exception": false,
     "start_time": "2025-01-26T01:27:28.926934",
     "status": "completed"
    },
    "tags": []
   },
   "outputs": [
    {
     "name": "stdout",
     "output_type": "stream",
     "text": [
      "Mean Absolute Error: 248.59\n",
      "Mean Squared Error: 240752.53\n",
      "Root Mean Squared Error: 490.67\n",
      "R-squared: 0.97\n"
     ]
    }
   ],
   "source": [
    "# Obtaining performance metrics\n",
    "from sklearn.metrics import mean_absolute_error, mean_squared_error, r2_score\n",
    "\n",
    "# Calculate MAE\n",
    "# Avg absolute errors between predicted and test values\n",
    "mae = mean_absolute_error(y_test, y_pred_test)\n",
    "print(\"Mean Absolute Error:\", round(mae, 2))\n",
    "\n",
    "# Calculate MSE\n",
    "# Avg squared errors between predicted and test values\n",
    "mse = mean_squared_error(y_test, y_pred_test)\n",
    "print(\"Mean Squared Error:\", round(mse, 2))\n",
    "\n",
    "# Calculate RMSE\n",
    "# Squared root of the MSE, which brings the metric back to the same unit as the target variable\n",
    "rmse = np.sqrt(mse)\n",
    "print(\"Root Mean Squared Error:\", round(rmse, 2))\n",
    "\n",
    "# Calculate R2\n",
    "# Proportion of variance explained by the model, Closer to 1 indicates better fit\n",
    "r2 = r2_score(y_test, y_pred_test)\n",
    "print(\"R-squared:\", round(r2, 2))"
   ]
  },
  {
   "cell_type": "code",
   "execution_count": 35,
   "id": "8be9b977",
   "metadata": {
    "execution": {
     "iopub.execute_input": "2025-01-26T01:27:29.008776Z",
     "iopub.status.busy": "2025-01-26T01:27:29.008394Z",
     "iopub.status.idle": "2025-01-26T01:27:29.042080Z",
     "shell.execute_reply": "2025-01-26T01:27:29.040708Z"
    },
    "papermill": {
     "duration": 0.059235,
     "end_time": "2025-01-26T01:27:29.043845",
     "exception": false,
     "start_time": "2025-01-26T01:27:28.984610",
     "status": "completed"
    },
    "tags": []
   },
   "outputs": [
    {
     "name": "stdout",
     "output_type": "stream",
     "text": [
      "Power: 101563   Price:  150     [15.76122529]\n",
      "Power: 128073   Price:  25     [16.7720864]\n",
      "Power: 151064   Price:  88     [19.67757809]\n",
      "Power: 227282   Price:  155     [90.87977686]\n",
      "Power: 252215   Price:  350     [169.42632935]\n",
      "Power: 300759   Price:  399     [522.99985861]\n",
      "Power: 352908   Price:  1650     [1540.57267489]\n",
      "Power: 400073   Price:  5000     [3855.64042809]\n",
      "Power: 459383   Price:  11500     [12102.13682661]\n",
      "Power: 533347   Price:  53000     [50650.90987528]\n"
     ]
    }
   ],
   "source": [
    "print(\"Power: 101563\", \"  Price: \", df.loc[df['power'] == 101563, 'price'].iloc[0], \"   \" , regressor.predict(poly_reg.fit_transform([[101563]])))\n",
    "print(\"Power: 128073\", \"  Price: \", df.loc[df['power'] == 128073, 'price'].iloc[0], \"   \" , regressor.predict(poly_reg.fit_transform([[128073]])))\n",
    "print(\"Power: 151064\", \"  Price: \", df.loc[df['power'] == 151064, 'price'].iloc[0], \"   \" , regressor.predict(poly_reg.fit_transform([[151064]])))\n",
    "print(\"Power: 227282\", \"  Price: \", df.loc[df['power'] == 227282, 'price'].iloc[0], \"   \" , regressor.predict(poly_reg.fit_transform([[227282]])))\n",
    "print(\"Power: 252215\", \"  Price: \", df.loc[df['power'] == 252215, 'price'].iloc[0], \"   \" , regressor.predict(poly_reg.fit_transform([[252215]])))\n",
    "print(\"Power: 300759\", \"  Price: \", df.loc[df['power'] == 300759, 'price'].iloc[0], \"   \" , regressor.predict(poly_reg.fit_transform([[300759]])))\n",
    "print(\"Power: 352908\", \"  Price: \", df.loc[df['power'] == 352908, 'price'].iloc[0], \"   \" , regressor.predict(poly_reg.fit_transform([[352908]])))\n",
    "print(\"Power: 400073\", \"  Price: \", df.loc[df['power'] == 400073, 'price'].iloc[0], \"   \" , regressor.predict(poly_reg.fit_transform([[400073]])))\n",
    "print(\"Power: 459383\", \"  Price: \", df.loc[df['power'] == 459383, 'price'].iloc[0], \"   \" , regressor.predict(poly_reg.fit_transform([[459383]])))\n",
    "print(\"Power: 533347\", \"  Price: \", df.loc[df['power'] == 533347, 'price'].iloc[0], \"   \" , regressor.predict(poly_reg.fit_transform([[533347]])))"
   ]
  },
  {
   "cell_type": "markdown",
   "id": "ad8e6ab4",
   "metadata": {
    "papermill": {
     "duration": 0.0228,
     "end_time": "2025-01-26T01:27:29.088972",
     "exception": false,
     "start_time": "2025-01-26T01:27:29.066172",
     "status": "completed"
    },
    "tags": []
   },
   "source": [
    "The model might seems to be overfitted with a degree 10 Polynomial Regression. However, model predictions make sense even though the error could be high, higher power nfts are exponentially more expensive."
   ]
  },
  {
   "cell_type": "code",
   "execution_count": 36,
   "id": "dc3748db",
   "metadata": {
    "execution": {
     "iopub.execute_input": "2025-01-26T01:27:29.136911Z",
     "iopub.status.busy": "2025-01-26T01:27:29.136528Z",
     "iopub.status.idle": "2025-01-26T01:27:29.142707Z",
     "shell.execute_reply": "2025-01-26T01:27:29.141772Z"
    },
    "papermill": {
     "duration": 0.032535,
     "end_time": "2025-01-26T01:27:29.144335",
     "exception": false,
     "start_time": "2025-01-26T01:27:29.111800",
     "status": "completed"
    },
    "tags": []
   },
   "outputs": [
    {
     "data": {
      "text/plain": [
       "15.544904917192639"
      ]
     },
     "execution_count": 36,
     "metadata": {},
     "output_type": "execute_result"
    }
   ],
   "source": [
    "# Getting Polynomial model coefficients\n",
    "coefficients = regressor.coef_\n",
    "intercept = regressor.intercept_\n",
    "intercept"
   ]
  },
  {
   "cell_type": "code",
   "execution_count": 37,
   "id": "4e0222e3",
   "metadata": {
    "execution": {
     "iopub.execute_input": "2025-01-26T01:27:29.190481Z",
     "iopub.status.busy": "2025-01-26T01:27:29.190127Z",
     "iopub.status.idle": "2025-01-26T01:27:29.196269Z",
     "shell.execute_reply": "2025-01-26T01:27:29.195338Z"
    },
    "papermill": {
     "duration": 0.030935,
     "end_time": "2025-01-26T01:27:29.197705",
     "exception": false,
     "start_time": "2025-01-26T01:27:29.166770",
     "status": "completed"
    },
    "tags": []
   },
   "outputs": [
    {
     "data": {
      "text/plain": [
       "array([ 0.00000000e+00, -1.69874739e-44, -3.90048612e-51,  4.74870289e-80,\n",
       "        1.70879109e-62,  3.71045403e-57,  9.51342075e-52,  2.03382782e-46,\n",
       "        2.91267877e-41, -1.12415445e-46,  1.35566573e-52])"
      ]
     },
     "execution_count": 37,
     "metadata": {},
     "output_type": "execute_result"
    }
   ],
   "source": [
    "coefficients"
   ]
  },
  {
   "cell_type": "markdown",
   "id": "4ee4cf7c",
   "metadata": {
    "papermill": {
     "duration": 0.022099,
     "end_time": "2025-01-26T01:27:29.242311",
     "exception": false,
     "start_time": "2025-01-26T01:27:29.220212",
     "status": "completed"
    },
    "tags": []
   },
   "source": [
    "# 7. Conclusions"
   ]
  },
  {
   "cell_type": "markdown",
   "id": "3f418db0",
   "metadata": {
    "execution": {
     "iopub.execute_input": "2025-01-26T01:17:45.043522Z",
     "iopub.status.busy": "2025-01-26T01:17:45.043084Z",
     "iopub.status.idle": "2025-01-26T01:17:45.050259Z",
     "shell.execute_reply": "2025-01-26T01:17:45.048792Z",
     "shell.execute_reply.started": "2025-01-26T01:17:45.043488Z"
    },
    "papermill": {
     "duration": 0.022003,
     "end_time": "2025-01-26T01:27:29.286528",
     "exception": false,
     "start_time": "2025-01-26T01:27:29.264525",
     "status": "completed"
    },
    "tags": []
   },
   "source": [
    "The Power Score of the characters is determinant to define the price, as we saw, Price<br>\n",
    "grows exponentially with the Power Score, also class might have an influence when defining<br>\n",
    "prices, Lancer class having consistent low prices, meanwhile Warrior and Arbalist classes have<br>\n",
    "more disperse prices but they can reach the highest prices among all classes. <br>\n",
    "\n",
    "Developing a Warrior or Arbalist character with high Power Scores are best options to sell, while<br>\n",
    "developing a Lancer Class character is the worst option if you want to eventually sell your<br>\n",
    "character."
   ]
  }
 ],
 "metadata": {
  "kaggle": {
   "accelerator": "none",
   "dataSources": [
    {
     "datasetId": 6436757,
     "sourceId": 10463929,
     "sourceType": "datasetVersion"
    }
   ],
   "dockerImageVersionId": 30822,
   "isGpuEnabled": false,
   "isInternetEnabled": true,
   "language": "python",
   "sourceType": "notebook"
  },
  "kernelspec": {
   "display_name": "Python 3",
   "language": "python",
   "name": "python3"
  },
  "language_info": {
   "codemirror_mode": {
    "name": "ipython",
    "version": 3
   },
   "file_extension": ".py",
   "mimetype": "text/x-python",
   "name": "python",
   "nbconvert_exporter": "python",
   "pygments_lexer": "ipython3",
   "version": "3.10.12"
  },
  "papermill": {
   "default_parameters": {},
   "duration": 15.183933,
   "end_time": "2025-01-26T01:27:30.232972",
   "environment_variables": {},
   "exception": null,
   "input_path": "__notebook__.ipynb",
   "output_path": "__notebook__.ipynb",
   "parameters": {},
   "start_time": "2025-01-26T01:27:15.049039",
   "version": "2.6.0"
  }
 },
 "nbformat": 4,
 "nbformat_minor": 5
}
