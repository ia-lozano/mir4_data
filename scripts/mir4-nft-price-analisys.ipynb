{
 "cells": [
  {
   "cell_type": "markdown",
   "id": "f26b2461",
   "metadata": {
    "_cell_guid": "b1076dfc-b9ad-4769-8c92-a6c4dae69d19",
    "_uuid": "8f2839f25d086af736a60e9eeb907d3b93b6e0e5",
    "papermill": {
     "duration": 0.01115,
     "end_time": "2025-01-26T01:27:18.072949",
     "exception": false,
     "start_time": "2025-01-26T01:27:18.061799",
     "status": "completed"
    },
    "tags": []
   },
   "source": [
    "# Exploratory Data Analisys (EDA) for Mir4 nft market, overview"
   ]
  },
  {
   "cell_type": "markdown",
   "id": "bef6fadf",
   "metadata": {
    "papermill": {
     "duration": 0.01038,
     "end_time": "2025-01-26T01:27:18.094248",
     "exception": false,
     "start_time": "2025-01-26T01:27:18.083868",
     "status": "completed"
    },
    "tags": []
   },
   "source": [
    "In this project im going to get some insights about the price in the nft market for Mir4, like the correlation between price and level or price and powerscore, check if there's outliers and remove them if necessary, data comes already clean from the scraping. At the end of this project i'm going to deploy an IA model to predict the price of a nft according to its features.\n",
    "\n",
    "Refer to https://mir4global.com/ and https://www.xdraco.com/nft/list/ for more information.\n",
    "\n",
    "I'll work with a csv file scraped with the following script, using Selenium: https://github.com/ia-lozano/webScraping-projects/tree/master/mir4Scraper\n",
    "\n",
    "The CSV file contains 4 features: <br>\n",
    "\n",
    "Class: Character's Class <br>\n",
    "Level: Character's Level <br>\n",
    "Power: Character's raw powerscore <br>\n",
    "Price: Price in Wemix (1 Wemix ~ 0.8 USD at the moment of this analisys)"
   ]
  },
  {
   "cell_type": "code",
   "execution_count": 4,
   "id": "6b6c84b8",
   "metadata": {
    "papermill": {
     "duration": 2.700676,
     "end_time": "2025-01-26T01:27:20.805821",
     "exception": false,
     "start_time": "2025-01-26T01:27:18.105145",
     "status": "completed"
    },
    "tags": []
   },
   "outputs": [],
   "source": [
    "import pandas as pd\n",
    "import numpy as np\n",
    "import matplotlib.pyplot as plt\n",
    "import seaborn as sns"
   ]
  },
  {
   "cell_type": "markdown",
   "id": "2082f3ae",
   "metadata": {
    "papermill": {
     "duration": 0.009825,
     "end_time": "2025-01-26T01:27:20.826465",
     "exception": false,
     "start_time": "2025-01-26T01:27:20.816640",
     "status": "completed"
    },
    "tags": []
   },
   "source": [
    "# 1. Importing Dataset"
   ]
  },
  {
   "cell_type": "code",
   "execution_count": 6,
   "id": "142c0baf",
   "metadata": {
    "papermill": {
     "duration": 0.048104,
     "end_time": "2025-01-26T01:27:20.886675",
     "exception": false,
     "start_time": "2025-01-26T01:27:20.838571",
     "status": "completed"
    },
    "tags": []
   },
   "outputs": [],
   "source": [
    "url = 'https://raw.githubusercontent.com/ia-lozano/mir4_data/refs/heads/master/processed/data.csv'\n",
    "df = pd.read_csv(url)"
   ]
  },
  {
   "cell_type": "markdown",
   "id": "5f4a17a5",
   "metadata": {
    "papermill": {
     "duration": 0.010632,
     "end_time": "2025-01-26T01:27:20.910023",
     "exception": false,
     "start_time": "2025-01-26T01:27:20.899391",
     "status": "completed"
    },
    "tags": []
   },
   "source": [
    "# 2. Working with the Data Frame"
   ]
  },
  {
   "cell_type": "code",
   "execution_count": 8,
   "id": "5b611ad9",
   "metadata": {
    "papermill": {
     "duration": 0.031285,
     "end_time": "2025-01-26T01:27:20.955810",
     "exception": false,
     "start_time": "2025-01-26T01:27:20.924525",
     "status": "completed"
    },
    "tags": []
   },
   "outputs": [
    {
     "data": {
      "text/html": [
       "<div>\n",
       "<style scoped>\n",
       "    .dataframe tbody tr th:only-of-type {\n",
       "        vertical-align: middle;\n",
       "    }\n",
       "\n",
       "    .dataframe tbody tr th {\n",
       "        vertical-align: top;\n",
       "    }\n",
       "\n",
       "    .dataframe thead th {\n",
       "        text-align: right;\n",
       "    }\n",
       "</style>\n",
       "<table border=\"1\" class=\"dataframe\">\n",
       "  <thead>\n",
       "    <tr style=\"text-align: right;\">\n",
       "      <th></th>\n",
       "      <th>name</th>\n",
       "      <th>class</th>\n",
       "      <th>level</th>\n",
       "      <th>power</th>\n",
       "      <th>price</th>\n",
       "      <th>date</th>\n",
       "    </tr>\n",
       "  </thead>\n",
       "  <tbody>\n",
       "    <tr>\n",
       "      <th>0</th>\n",
       "      <td>s</td>\n",
       "      <td>arbalist</td>\n",
       "      <td>142</td>\n",
       "      <td>321708</td>\n",
       "      <td>550</td>\n",
       "      <td>2025-06-22</td>\n",
       "    </tr>\n",
       "    <tr>\n",
       "      <th>1</th>\n",
       "      <td>NaN</td>\n",
       "      <td>taoist</td>\n",
       "      <td>85</td>\n",
       "      <td>102142</td>\n",
       "      <td>34</td>\n",
       "      <td>2025-06-22</td>\n",
       "    </tr>\n",
       "    <tr>\n",
       "      <th>2</th>\n",
       "      <td>Gunner</td>\n",
       "      <td>arbalist</td>\n",
       "      <td>140</td>\n",
       "      <td>300024</td>\n",
       "      <td>299</td>\n",
       "      <td>2025-06-22</td>\n",
       "    </tr>\n",
       "    <tr>\n",
       "      <th>3</th>\n",
       "      <td>waharaa</td>\n",
       "      <td>sorcerer</td>\n",
       "      <td>81</td>\n",
       "      <td>100378</td>\n",
       "      <td>34</td>\n",
       "      <td>2025-06-22</td>\n",
       "    </tr>\n",
       "    <tr>\n",
       "      <th>4</th>\n",
       "      <td>taldodavid</td>\n",
       "      <td>arbalist</td>\n",
       "      <td>131</td>\n",
       "      <td>241024</td>\n",
       "      <td>240</td>\n",
       "      <td>2025-06-22</td>\n",
       "    </tr>\n",
       "  </tbody>\n",
       "</table>\n",
       "</div>"
      ],
      "text/plain": [
       "         name     class  level   power  price        date\n",
       "0           s  arbalist    142  321708    550  2025-06-22\n",
       "1         NaN    taoist     85  102142     34  2025-06-22\n",
       "2      Gunner  arbalist    140  300024    299  2025-06-22\n",
       "3     waharaa  sorcerer     81  100378     34  2025-06-22\n",
       "4  taldodavid  arbalist    131  241024    240  2025-06-22"
      ]
     },
     "execution_count": 8,
     "metadata": {},
     "output_type": "execute_result"
    }
   ],
   "source": [
    "df.head(5)"
   ]
  },
  {
   "cell_type": "code",
   "execution_count": 9,
   "id": "7f52985e",
   "metadata": {
    "papermill": {
     "duration": 0.020727,
     "end_time": "2025-01-26T01:27:20.987014",
     "exception": false,
     "start_time": "2025-01-26T01:27:20.966287",
     "status": "completed"
    },
    "tags": []
   },
   "outputs": [
    {
     "data": {
      "text/plain": [
       "name     object\n",
       "class    object\n",
       "level     int64\n",
       "power     int64\n",
       "price     int64\n",
       "date     object\n",
       "dtype: object"
      ]
     },
     "execution_count": 9,
     "metadata": {},
     "output_type": "execute_result"
    }
   ],
   "source": [
    "# Checking if the data types are the correct ones to work with\n",
    "df.dtypes"
   ]
  },
  {
   "cell_type": "code",
   "execution_count": 10,
   "id": "7083c5b4",
   "metadata": {
    "papermill": {
     "duration": 0.026234,
     "end_time": "2025-01-26T01:27:21.029335",
     "exception": false,
     "start_time": "2025-01-26T01:27:21.003101",
     "status": "completed"
    },
    "tags": []
   },
   "outputs": [
    {
     "data": {
      "text/plain": [
       "(2952, 6)"
      ]
     },
     "execution_count": 10,
     "metadata": {},
     "output_type": "execute_result"
    }
   ],
   "source": [
    "# Checking how many rows and columns do we have\n",
    "df.shape"
   ]
  },
  {
   "cell_type": "markdown",
   "id": "12514c1a",
   "metadata": {
    "papermill": {
     "duration": 0.014197,
     "end_time": "2025-01-26T01:27:21.062530",
     "exception": false,
     "start_time": "2025-01-26T01:27:21.048333",
     "status": "completed"
    },
    "tags": []
   },
   "source": [
    "# 3. Descriptive Statistics (taking a look)"
   ]
  },
  {
   "cell_type": "code",
   "execution_count": 12,
   "id": "5258a51b",
   "metadata": {
    "papermill": {
     "duration": 0.053773,
     "end_time": "2025-01-26T01:27:21.133877",
     "exception": false,
     "start_time": "2025-01-26T01:27:21.080104",
     "status": "completed"
    },
    "tags": []
   },
   "outputs": [
    {
     "data": {
      "text/html": [
       "<div>\n",
       "<style scoped>\n",
       "    .dataframe tbody tr th:only-of-type {\n",
       "        vertical-align: middle;\n",
       "    }\n",
       "\n",
       "    .dataframe tbody tr th {\n",
       "        vertical-align: top;\n",
       "    }\n",
       "\n",
       "    .dataframe thead th {\n",
       "        text-align: right;\n",
       "    }\n",
       "</style>\n",
       "<table border=\"1\" class=\"dataframe\">\n",
       "  <thead>\n",
       "    <tr style=\"text-align: right;\">\n",
       "      <th></th>\n",
       "      <th>level</th>\n",
       "      <th>power</th>\n",
       "      <th>price</th>\n",
       "    </tr>\n",
       "  </thead>\n",
       "  <tbody>\n",
       "    <tr>\n",
       "      <th>count</th>\n",
       "      <td>2952.000000</td>\n",
       "      <td>2952.000000</td>\n",
       "      <td>2952.000000</td>\n",
       "    </tr>\n",
       "    <tr>\n",
       "      <th>mean</th>\n",
       "      <td>135.205285</td>\n",
       "      <td>299032.305556</td>\n",
       "      <td>1386.393631</td>\n",
       "    </tr>\n",
       "    <tr>\n",
       "      <th>std</th>\n",
       "      <td>15.358250</td>\n",
       "      <td>77796.665305</td>\n",
       "      <td>5786.684660</td>\n",
       "    </tr>\n",
       "    <tr>\n",
       "      <th>min</th>\n",
       "      <td>66.000000</td>\n",
       "      <td>100205.000000</td>\n",
       "      <td>34.000000</td>\n",
       "    </tr>\n",
       "    <tr>\n",
       "      <th>25%</th>\n",
       "      <td>131.000000</td>\n",
       "      <td>266462.750000</td>\n",
       "      <td>295.000000</td>\n",
       "    </tr>\n",
       "    <tr>\n",
       "      <th>50%</th>\n",
       "      <td>141.000000</td>\n",
       "      <td>314802.000000</td>\n",
       "      <td>595.000000</td>\n",
       "    </tr>\n",
       "    <tr>\n",
       "      <th>75%</th>\n",
       "      <td>144.000000</td>\n",
       "      <td>348524.250000</td>\n",
       "      <td>1190.000000</td>\n",
       "    </tr>\n",
       "    <tr>\n",
       "      <th>max</th>\n",
       "      <td>171.000000</td>\n",
       "      <td>624297.000000</td>\n",
       "      <td>187777.000000</td>\n",
       "    </tr>\n",
       "  </tbody>\n",
       "</table>\n",
       "</div>"
      ],
      "text/plain": [
       "             level          power          price\n",
       "count  2952.000000    2952.000000    2952.000000\n",
       "mean    135.205285  299032.305556    1386.393631\n",
       "std      15.358250   77796.665305    5786.684660\n",
       "min      66.000000  100205.000000      34.000000\n",
       "25%     131.000000  266462.750000     295.000000\n",
       "50%     141.000000  314802.000000     595.000000\n",
       "75%     144.000000  348524.250000    1190.000000\n",
       "max     171.000000  624297.000000  187777.000000"
      ]
     },
     "execution_count": 12,
     "metadata": {},
     "output_type": "execute_result"
    }
   ],
   "source": [
    "df.describe()"
   ]
  },
  {
   "cell_type": "markdown",
   "id": "5fc80df3",
   "metadata": {
    "papermill": {
     "duration": 0.013557,
     "end_time": "2025-01-26T01:27:21.158377",
     "exception": false,
     "start_time": "2025-01-26T01:27:21.144820",
     "status": "completed"
    },
    "tags": []
   },
   "source": [
    "# 4. Drawing plots"
   ]
  },
  {
   "cell_type": "markdown",
   "id": "6fe74634",
   "metadata": {
    "papermill": {
     "duration": 0.011145,
     "end_time": "2025-01-26T01:27:21.185713",
     "exception": false,
     "start_time": "2025-01-26T01:27:21.174568",
     "status": "completed"
    },
    "tags": []
   },
   "source": [
    "# 4.1. Histogram & Distribution Plot"
   ]
  },
  {
   "cell_type": "code",
   "execution_count": 15,
   "id": "747d7f4e",
   "metadata": {
    "papermill": {
     "duration": 1.060298,
     "end_time": "2025-01-26T01:27:22.259866",
     "exception": false,
     "start_time": "2025-01-26T01:27:21.199568",
     "status": "completed"
    },
    "tags": []
   },
   "outputs": [
    {
     "data": {
      "text/plain": [
       "Text(0.5, 1.0, 'Price distribution')"
      ]
     },
     "execution_count": 15,
     "metadata": {},
     "output_type": "execute_result"
    },
    {
     "data": {
      "image/png": "[encoded data removed]",
      "text/plain": [
       "<Figure size 1300x500 with 1 Axes>"
      ]
     },
     "metadata": {},
     "output_type": "display_data"
    }
   ],
   "source": [
    "plt.figure(figsize=(13,5))\n",
    "sns.histplot(df['price'])\n",
    "plt.title('Price distribution')"
   ]
  },
  {
   "cell_type": "code",
   "execution_count": 16,
   "id": "d1ed5869",
   "metadata": {
    "papermill": {
     "duration": 1.043686,
     "end_time": "2025-01-26T01:27:23.315293",
     "exception": false,
     "start_time": "2025-01-26T01:27:22.271607",
     "status": "completed"
    },
    "tags": []
   },
   "outputs": [
    {
     "data": {
      "image/png": "[encoded data removed]",
      "text/plain": [
       "<Figure size 1300x500 with 1 Axes>"
      ]
     },
     "metadata": {},
     "output_type": "display_data"
    }
   ],
   "source": [
    "# Zooming in\n",
    "plt.figure(figsize=(13,5))\n",
    "sns.histplot(df['price'])\n",
    "\n",
    "# Adjusting x-axis\n",
    "plt.xlim(0,2000)\n",
    "plt.xticks(np.arange(0, 2001, 200))\n",
    "plt.title('Price distribution - Zoomed In')\n",
    "plt.show()"
   ]
  },
  {
   "cell_type": "code",
   "execution_count": 17,
   "id": "2d0849ae",
   "metadata": {
    "papermill": {
     "duration": 0.021916,
     "end_time": "2025-01-26T01:27:23.349163",
     "exception": false,
     "start_time": "2025-01-26T01:27:23.327247",
     "status": "completed"
    },
    "tags": []
   },
   "outputs": [
    {
     "name": "stdout",
     "output_type": "stream",
     "text": [
      "Skew:      24.965862733934692 \n",
      "Kurtosis: 759.5540958847832\n"
     ]
    }
   ],
   "source": [
    "# Getting Skew & Kurtosis\n",
    "print(f'Skew:      {df[\"price\"].skew()} \\nKurtosis: {df[\"price\"].kurtosis()}')"
   ]
  },
  {
   "cell_type": "markdown",
   "id": "b4cd70ae",
   "metadata": {
    "papermill": {
     "duration": 0.01222,
     "end_time": "2025-01-26T01:27:23.373483",
     "exception": false,
     "start_time": "2025-01-26T01:27:23.361263",
     "status": "completed"
    },
    "tags": []
   },
   "source": [
    "The data is highly right-skewed and is way higher than 3, the normal distribution kurtosis. which means that there is very expensive nfts listed but most of the nfts have \"low\" prices, around less than 100 and 400 Wemix."
   ]
  },
  {
   "cell_type": "markdown",
   "id": "36735ae1",
   "metadata": {
    "papermill": {
     "duration": 0.013589,
     "end_time": "2025-01-26T01:27:23.401120",
     "exception": false,
     "start_time": "2025-01-26T01:27:23.387531",
     "status": "completed"
    },
    "tags": []
   },
   "source": [
    "# 4.2 Scatter Plots"
   ]
  },
  {
   "cell_type": "code",
   "execution_count": 20,
   "id": "b508e064",
   "metadata": {
    "papermill": {
     "duration": 0.03266,
     "end_time": "2025-01-26T01:27:23.446821",
     "exception": false,
     "start_time": "2025-01-26T01:27:23.414161",
     "status": "completed"
    },
    "tags": []
   },
   "outputs": [
    {
     "data": {
      "text/html": [
       "<div>\n",
       "<style scoped>\n",
       "    .dataframe tbody tr th:only-of-type {\n",
       "        vertical-align: middle;\n",
       "    }\n",
       "\n",
       "    .dataframe tbody tr th {\n",
       "        vertical-align: top;\n",
       "    }\n",
       "\n",
       "    .dataframe thead th {\n",
       "        text-align: right;\n",
       "    }\n",
       "</style>\n",
       "<table border=\"1\" class=\"dataframe\">\n",
       "  <thead>\n",
       "    <tr style=\"text-align: right;\">\n",
       "      <th></th>\n",
       "      <th>price</th>\n",
       "      <th>power</th>\n",
       "    </tr>\n",
       "  </thead>\n",
       "  <tbody>\n",
       "    <tr>\n",
       "      <th>0</th>\n",
       "      <td>550</td>\n",
       "      <td>321708</td>\n",
       "    </tr>\n",
       "    <tr>\n",
       "      <th>1</th>\n",
       "      <td>34</td>\n",
       "      <td>102142</td>\n",
       "    </tr>\n",
       "    <tr>\n",
       "      <th>2</th>\n",
       "      <td>299</td>\n",
       "      <td>300024</td>\n",
       "    </tr>\n",
       "    <tr>\n",
       "      <th>3</th>\n",
       "      <td>34</td>\n",
       "      <td>100378</td>\n",
       "    </tr>\n",
       "    <tr>\n",
       "      <th>4</th>\n",
       "      <td>240</td>\n",
       "      <td>241024</td>\n",
       "    </tr>\n",
       "  </tbody>\n",
       "</table>\n",
       "</div>"
      ],
      "text/plain": [
       "   price   power\n",
       "0    550  321708\n",
       "1     34  102142\n",
       "2    299  300024\n",
       "3     34  100378\n",
       "4    240  241024"
      ]
     },
     "execution_count": 20,
     "metadata": {},
     "output_type": "execute_result"
    }
   ],
   "source": [
    "var = 'power'\n",
    "price_power = pd.concat([df['price'], df[var]], axis=1) # Price vs power table\n",
    "price_power.head(5)"
   ]
  },
  {
   "cell_type": "code",
   "execution_count": 21,
   "id": "5c6be72b",
   "metadata": {
    "papermill": {
     "duration": 0.339532,
     "end_time": "2025-01-26T01:27:23.799265",
     "exception": false,
     "start_time": "2025-01-26T01:27:23.459733",
     "status": "completed"
    },
    "tags": []
   },
   "outputs": [
    {
     "data": {
      "text/plain": [
       "<Axes: title={'center': 'Power vs Price'}, xlabel='power', ylabel='price'>"
      ]
     },
     "execution_count": 21,
     "metadata": {},
     "output_type": "execute_result"
    },
    {
     "data": {
      "image/png": "[encoded data removed]",
      "text/plain": [
       "<Figure size 640x480 with 1 Axes>"
      ]
     },
     "metadata": {},
     "output_type": "display_data"
    }
   ],
   "source": [
    "price_power.plot.scatter(x=var, y='price', title='Power vs Price')"
   ]
  },
  {
   "cell_type": "markdown",
   "id": "55273fff",
   "metadata": {
    "papermill": {
     "duration": 0.01258,
     "end_time": "2025-01-26T01:27:23.824735",
     "exception": false,
     "start_time": "2025-01-26T01:27:23.812155",
     "status": "completed"
    },
    "tags": []
   },
   "source": [
    "It seems that the price is and exponential function of the power, lets take a look at the correlation between Price vs Level"
   ]
  },
  {
   "cell_type": "code",
   "execution_count": 23,
   "id": "87ba5cdb",
   "metadata": {
    "papermill": {
     "duration": 0.026166,
     "end_time": "2025-01-26T01:27:23.864877",
     "exception": false,
     "start_time": "2025-01-26T01:27:23.838711",
     "status": "completed"
    },
    "tags": []
   },
   "outputs": [
    {
     "data": {
      "text/html": [
       "<div>\n",
       "<style scoped>\n",
       "    .dataframe tbody tr th:only-of-type {\n",
       "        vertical-align: middle;\n",
       "    }\n",
       "\n",
       "    .dataframe tbody tr th {\n",
       "        vertical-align: top;\n",
       "    }\n",
       "\n",
       "    .dataframe thead th {\n",
       "        text-align: right;\n",
       "    }\n",
       "</style>\n",
       "<table border=\"1\" class=\"dataframe\">\n",
       "  <thead>\n",
       "    <tr style=\"text-align: right;\">\n",
       "      <th></th>\n",
       "      <th>price</th>\n",
       "      <th>level</th>\n",
       "    </tr>\n",
       "  </thead>\n",
       "  <tbody>\n",
       "    <tr>\n",
       "      <th>0</th>\n",
       "      <td>550</td>\n",
       "      <td>142</td>\n",
       "    </tr>\n",
       "    <tr>\n",
       "      <th>1</th>\n",
       "      <td>34</td>\n",
       "      <td>85</td>\n",
       "    </tr>\n",
       "    <tr>\n",
       "      <th>2</th>\n",
       "      <td>299</td>\n",
       "      <td>140</td>\n",
       "    </tr>\n",
       "    <tr>\n",
       "      <th>3</th>\n",
       "      <td>34</td>\n",
       "      <td>81</td>\n",
       "    </tr>\n",
       "    <tr>\n",
       "      <th>4</th>\n",
       "      <td>240</td>\n",
       "      <td>131</td>\n",
       "    </tr>\n",
       "  </tbody>\n",
       "</table>\n",
       "</div>"
      ],
      "text/plain": [
       "   price  level\n",
       "0    550    142\n",
       "1     34     85\n",
       "2    299    140\n",
       "3     34     81\n",
       "4    240    131"
      ]
     },
     "execution_count": 23,
     "metadata": {},
     "output_type": "execute_result"
    }
   ],
   "source": [
    "var = 'level'\n",
    "price_level = pd.concat([df['price'], df[var]], axis=1)\n",
    "price_level.head(5)"
   ]
  },
  {
   "cell_type": "code",
   "execution_count": 24,
   "id": "dc6d201b",
   "metadata": {
    "papermill": {
     "duration": 0.249379,
     "end_time": "2025-01-26T01:27:24.129169",
     "exception": false,
     "start_time": "2025-01-26T01:27:23.879790",
     "status": "completed"
    },
    "tags": []
   },
   "outputs": [
    {
     "data": {
      "text/plain": [
       "<Axes: title={'center': 'Level vs Price'}, xlabel='level', ylabel='price'>"
      ]
     },
     "execution_count": 24,
     "metadata": {},
     "output_type": "execute_result"
    },
    {
     "data": {
      "image/png": "[encoded data removed]",
      "text/plain": [
       "<Figure size 640x480 with 1 Axes>"
      ]
     },
     "metadata": {},
     "output_type": "display_data"
    }
   ],
   "source": [
    "price_level.plot.scatter(x=var, y='price', title='Level vs Price')"
   ]
  },
  {
   "cell_type": "markdown",
   "id": "2e698c6a",
   "metadata": {
    "papermill": {
     "duration": 0.013265,
     "end_time": "2025-01-26T01:27:24.155869",
     "exception": false,
     "start_time": "2025-01-26T01:27:24.142604",
     "status": "completed"
    },
    "tags": []
   },
   "source": [
    "The correlation between level and price seems to be also an exponential correlation, makes sense, the more level, the more powerfull the character is.\n",
    "\n",
    "However, the correlation between power and price seems to be stronger. Actually, a more leveled character doesn't necessary means a more powerful character.\n",
    "\n",
    "Lets zoom in both charts, for this im going to limit the price from 0 to 2000 wemix and the power and level from 100,000 and 350,000 and from 60 to 130 respectively."
   ]
  },
  {
   "cell_type": "code",
   "execution_count": 26,
   "id": "3cbda70b",
   "metadata": {
    "papermill": {
     "duration": 0.333283,
     "end_time": "2025-01-26T01:27:24.502542",
     "exception": false,
     "start_time": "2025-01-26T01:27:24.169259",
     "status": "completed"
    },
    "tags": []
   },
   "outputs": [
    {
     "data": {
      "text/plain": [
       "<Axes: title={'center': 'Power vs Price - Zoomed In'}, xlabel='power', ylabel='price'>"
      ]
     },
     "execution_count": 26,
     "metadata": {},
     "output_type": "execute_result"
    },
    {
     "data": {
      "image/png": "[encoded data removed]",
      "text/plain": [
       "<Figure size 640x480 with 1 Axes>"
      ]
     },
     "metadata": {},
     "output_type": "display_data"
    }
   ],
   "source": [
    "# Zooming in Price vs Power plot\n",
    "var = 'power'\n",
    "price_power = pd.concat([df['price'], df[var]], axis=1)\n",
    "price_power.plot.scatter(x=var, y='price', title='Power vs Price - Zoomed In', ylim=(0,2000), xlim=(100000,350000))"
   ]
  },
  {
   "cell_type": "code",
   "execution_count": 27,
   "id": "9c4bf439",
   "metadata": {
    "papermill": {
     "duration": 0.376923,
     "end_time": "2025-01-26T01:27:24.894083",
     "exception": false,
     "start_time": "2025-01-26T01:27:24.517160",
     "status": "completed"
    },
    "tags": []
   },
   "outputs": [
    {
     "data": {
      "text/plain": [
       "<Axes: title={'center': 'Level vs Price'}, xlabel='level', ylabel='price'>"
      ]
     },
     "execution_count": 27,
     "metadata": {},
     "output_type": "execute_result"
    },
    {
     "data": {
      "image/png": "[encoded data removed]",
      "text/plain": [
       "<Figure size 640x480 with 1 Axes>"
      ]
     },
     "metadata": {},
     "output_type": "display_data"
    }
   ],
   "source": [
    "# Zooming in Price vs Level plot\n",
    "var = 'level'\n",
    "price_level = pd.concat([df['price'], df[var]], axis=1)\n",
    "price_level.plot.scatter(x=var, y='price', title='Level vs Price', ylim=(0, 2000), xlim=(60, 140))"
   ]
  },
  {
   "cell_type": "markdown",
   "id": "051f3221",
   "metadata": {
    "papermill": {
     "duration": 0.015245,
     "end_time": "2025-01-26T01:27:24.925028",
     "exception": false,
     "start_time": "2025-01-26T01:27:24.909783",
     "status": "completed"
    },
    "tags": []
   },
   "source": [
    "In the Level vs Price plot I had to raise the level limit to 150, and even so the correlation seems to be weak. If I wanted to predict the price using a polynomial regression I'd use the Powerscore as a feature.\n",
    "\n",
    "But... What happens if I want to sell a nft betwen 100,000 and 250,000 powerscore (an achievable free to play character). Lets zoom in even more into the Power vs Price chart."
   ]
  },
  {
   "cell_type": "code",
   "execution_count": 29,
   "id": "ca7b0daa",
   "metadata": {
    "papermill": {
     "duration": 0.307545,
     "end_time": "2025-01-26T01:27:25.248804",
     "exception": false,
     "start_time": "2025-01-26T01:27:24.941259",
     "status": "completed"
    },
    "tags": []
   },
   "outputs": [
    {
     "data": {
      "text/plain": [
       "<Axes: title={'center': 'Power vs Price - Zoomed In'}, xlabel='power', ylabel='price'>"
      ]
     },
     "execution_count": 29,
     "metadata": {},
     "output_type": "execute_result"
    },
    {
     "data": {
      "image/png": "[encoded data removed]",
      "text/plain": [
       "<Figure size 640x480 with 1 Axes>"
      ]
     },
     "metadata": {},
     "output_type": "display_data"
    }
   ],
   "source": [
    "# Zooming in even more...\n",
    "var = 'power'\n",
    "price_power = pd.concat([df['price'], df[var]], axis=1)\n",
    "price_power.plot.scatter(x=var, y='price', title='Power vs Price - Zoomed In', ylim=(0, 400), xlim=(100000, 250000))"
   ]
  },
  {
   "cell_type": "code",
   "execution_count": 30,
   "id": "145553a4",
   "metadata": {
    "papermill": {
     "duration": 0.297666,
     "end_time": "2025-01-26T01:27:25.572394",
     "exception": false,
     "start_time": "2025-01-26T01:27:25.274728",
     "status": "completed"
    },
    "tags": []
   },
   "outputs": [
    {
     "data": {
      "text/plain": [
       "<Axes: title={'center': 'Level vs Price - Zoomed In'}, xlabel='level', ylabel='price'>"
      ]
     },
     "execution_count": 30,
     "metadata": {},
     "output_type": "execute_result"
    },
    {
     "data": {
      "image/png": "[encoded data removed]",
      "text/plain": [
       "<Figure size 640x480 with 1 Axes>"
      ]
     },
     "metadata": {},
     "output_type": "display_data"
    }
   ],
   "source": [
    "# Zooming even more in Price vs Level plot\n",
    "var = 'level'\n",
    "price_level = pd.concat([df['price'], df[var]], axis=1)\n",
    "price_level.plot.scatter(x=var, y='price', title='Level vs Price - Zoomed In', ylim=(0, 400), xlim=(60,120))"
   ]
  },
  {
   "cell_type": "markdown",
   "id": "43913396",
   "metadata": {
    "papermill": {
     "duration": 0.016408,
     "end_time": "2025-01-26T01:27:25.608108",
     "exception": false,
     "start_time": "2025-01-26T01:27:25.591700",
     "status": "completed"
    },
    "tags": []
   },
   "source": [
    "Probably I could use a multiple linear regression to predict the price at lower levels and powerscores. I'll do that later and see how it goes."
   ]
  },
  {
   "cell_type": "markdown",
   "id": "b6163b0a",
   "metadata": {
    "papermill": {
     "duration": 0.016905,
     "end_time": "2025-01-26T01:27:25.642044",
     "exception": false,
     "start_time": "2025-01-26T01:27:25.625139",
     "status": "completed"
    },
    "tags": []
   },
   "source": [
    "# 4.3 Box Plots (Categorical Data)"
   ]
  },
  {
   "cell_type": "markdown",
   "id": "26908a0f",
   "metadata": {
    "papermill": {
     "duration": 0.016313,
     "end_time": "2025-01-26T01:27:25.674995",
     "exception": false,
     "start_time": "2025-01-26T01:27:25.658682",
     "status": "completed"
    },
    "tags": []
   },
   "source": [
    "What about character class? Does it influence the price somehow? <br> lets find out.."
   ]
  },
  {
   "cell_type": "code",
   "execution_count": 34,
   "id": "9ef11608",
   "metadata": {
    "papermill": {
     "duration": 0.030707,
     "end_time": "2025-01-26T01:27:25.722620",
     "exception": false,
     "start_time": "2025-01-26T01:27:25.691913",
     "status": "completed"
    },
    "tags": []
   },
   "outputs": [
    {
     "data": {
      "text/html": [
       "<div>\n",
       "<style scoped>\n",
       "    .dataframe tbody tr th:only-of-type {\n",
       "        vertical-align: middle;\n",
       "    }\n",
       "\n",
       "    .dataframe tbody tr th {\n",
       "        vertical-align: top;\n",
       "    }\n",
       "\n",
       "    .dataframe thead th {\n",
       "        text-align: right;\n",
       "    }\n",
       "</style>\n",
       "<table border=\"1\" class=\"dataframe\">\n",
       "  <thead>\n",
       "    <tr style=\"text-align: right;\">\n",
       "      <th></th>\n",
       "      <th>price</th>\n",
       "      <th>class</th>\n",
       "    </tr>\n",
       "  </thead>\n",
       "  <tbody>\n",
       "    <tr>\n",
       "      <th>0</th>\n",
       "      <td>550</td>\n",
       "      <td>arbalist</td>\n",
       "    </tr>\n",
       "    <tr>\n",
       "      <th>1</th>\n",
       "      <td>34</td>\n",
       "      <td>taoist</td>\n",
       "    </tr>\n",
       "    <tr>\n",
       "      <th>2</th>\n",
       "      <td>299</td>\n",
       "      <td>arbalist</td>\n",
       "    </tr>\n",
       "    <tr>\n",
       "      <th>3</th>\n",
       "      <td>34</td>\n",
       "      <td>sorcerer</td>\n",
       "    </tr>\n",
       "    <tr>\n",
       "      <th>4</th>\n",
       "      <td>240</td>\n",
       "      <td>arbalist</td>\n",
       "    </tr>\n",
       "  </tbody>\n",
       "</table>\n",
       "</div>"
      ],
      "text/plain": [
       "   price     class\n",
       "0    550  arbalist\n",
       "1     34    taoist\n",
       "2    299  arbalist\n",
       "3     34  sorcerer\n",
       "4    240  arbalist"
      ]
     },
     "execution_count": 34,
     "metadata": {},
     "output_type": "execute_result"
    }
   ],
   "source": [
    "# Price and class table\n",
    "var = 'class'\n",
    "price_class = pd.concat([df['price'], df[var]], axis=1)\n",
    "price_class.head(5)"
   ]
  },
  {
   "cell_type": "code",
   "execution_count": 35,
   "id": "a4dba29f",
   "metadata": {
    "papermill": {
     "duration": 0.248328,
     "end_time": "2025-01-26T01:27:25.988143",
     "exception": false,
     "start_time": "2025-01-26T01:27:25.739815",
     "status": "completed"
    },
    "tags": []
   },
   "outputs": [
    {
     "data": {
      "text/plain": [
       "<Axes: xlabel='class', ylabel='price'>"
      ]
     },
     "execution_count": 35,
     "metadata": {},
     "output_type": "execute_result"
    },
    {
     "data": {
      "image/png": "[encoded data removed]",
      "text/plain": [
       "<Figure size 640x480 with 1 Axes>"
      ]
     },
     "metadata": {},
     "output_type": "display_data"
    }
   ],
   "source": [
    "# First glance\n",
    "sns.boxplot(x=var, y='price', data=price_class)"
   ]
  },
  {
   "cell_type": "code",
   "execution_count": 36,
   "id": "99c52b20",
   "metadata": {
    "papermill": {
     "duration": 0.263148,
     "end_time": "2025-01-26T01:27:26.269673",
     "exception": false,
     "start_time": "2025-01-26T01:27:26.006525",
     "status": "completed"
    },
    "tags": []
   },
   "outputs": [
    {
     "data": {
      "text/plain": [
       "(np.float64(-0.5), np.float64(5.5), np.float64(0.0), np.float64(2000.0))"
      ]
     },
     "execution_count": 36,
     "metadata": {},
     "output_type": "execute_result"
    },
    {
     "data": {
      "image/png": "[encoded data removed]",
      "text/plain": [
       "<Figure size 640x480 with 1 Axes>"
      ]
     },
     "metadata": {},
     "output_type": "display_data"
    }
   ],
   "source": [
    "# Zooming in\n",
    "boxplot = sns.boxplot(x=var, y='price', data=price_class)\n",
    "boxplot.axis(ymin=0, ymax=2000)"
   ]
  },
  {
   "cell_type": "markdown",
   "id": "41b01577",
   "metadata": {
    "papermill": {
     "duration": 0.017655,
     "end_time": "2025-01-26T01:27:26.305617",
     "exception": false,
     "start_time": "2025-01-26T01:27:26.287962",
     "status": "completed"
    },
    "tags": []
   },
   "source": [
    "The class seems to have an influence in the price, lancers have the most consistent low price, meanwhile warriors, arbalists and taoists have more disperse price ranges and strong outliers, darkists and sorcerers have more stable price range than warriors, arbalists and taoists, but still have disperse price ranges.  <br>\n",
    "According to this boxplot, selling a warrior, arbalist or taoist could give you a higher price, which strongly depends on the powerscore as we saw before. So a warrior, taoist or arbalist with high powerscores are the best options to sell."
   ]
  },
  {
   "cell_type": "markdown",
   "id": "f1dc4077",
   "metadata": {
    "papermill": {
     "duration": 0.018116,
     "end_time": "2025-01-26T01:27:26.831170",
     "exception": false,
     "start_time": "2025-01-26T01:27:26.813054",
     "status": "completed"
    },
    "tags": []
   },
   "source": [
    "Definetely the correlation between Price and Power, Level is not linear, as we saw before in the scatter plots section. However, they're still correlated, having the strongest correlation with the powerscore."
   ]
  },
  {
   "cell_type": "markdown",
   "id": "65ba43b5",
   "metadata": {
    "papermill": {
     "duration": 0.01864,
     "end_time": "2025-01-26T01:27:26.868138",
     "exception": false,
     "start_time": "2025-01-26T01:27:26.849498",
     "status": "completed"
    },
    "tags": []
   },
   "source": [
    "# 5. Data Preprocessing for IA regression models"
   ]
  },
  {
   "cell_type": "markdown",
   "id": "ce921067",
   "metadata": {
    "papermill": {
     "duration": 0.018286,
     "end_time": "2025-01-26T01:27:26.907064",
     "exception": false,
     "start_time": "2025-01-26T01:27:26.888778",
     "status": "completed"
    },
    "tags": []
   },
   "source": [
    "# 5.1 Data cleaning and preprocessing"
   ]
  },
  {
   "cell_type": "code",
   "execution_count": 41,
   "id": "676c61c7",
   "metadata": {
    "papermill": {
     "duration": 0.031981,
     "end_time": "2025-01-26T01:27:26.957531",
     "exception": false,
     "start_time": "2025-01-26T01:27:26.925550",
     "status": "completed"
    },
    "tags": []
   },
   "outputs": [
    {
     "data": {
      "text/html": [
       "<div>\n",
       "<style scoped>\n",
       "    .dataframe tbody tr th:only-of-type {\n",
       "        vertical-align: middle;\n",
       "    }\n",
       "\n",
       "    .dataframe tbody tr th {\n",
       "        vertical-align: top;\n",
       "    }\n",
       "\n",
       "    .dataframe thead th {\n",
       "        text-align: right;\n",
       "    }\n",
       "</style>\n",
       "<table border=\"1\" class=\"dataframe\">\n",
       "  <thead>\n",
       "    <tr style=\"text-align: right;\">\n",
       "      <th></th>\n",
       "      <th>name</th>\n",
       "      <th>class</th>\n",
       "      <th>level</th>\n",
       "      <th>power</th>\n",
       "      <th>price</th>\n",
       "      <th>date</th>\n",
       "    </tr>\n",
       "  </thead>\n",
       "  <tbody>\n",
       "    <tr>\n",
       "      <th>0</th>\n",
       "      <td>s</td>\n",
       "      <td>arbalist</td>\n",
       "      <td>142</td>\n",
       "      <td>321708</td>\n",
       "      <td>550</td>\n",
       "      <td>2025-06-22</td>\n",
       "    </tr>\n",
       "    <tr>\n",
       "      <th>1</th>\n",
       "      <td>NaN</td>\n",
       "      <td>taoist</td>\n",
       "      <td>85</td>\n",
       "      <td>102142</td>\n",
       "      <td>34</td>\n",
       "      <td>2025-06-22</td>\n",
       "    </tr>\n",
       "    <tr>\n",
       "      <th>2</th>\n",
       "      <td>Gunner</td>\n",
       "      <td>arbalist</td>\n",
       "      <td>140</td>\n",
       "      <td>300024</td>\n",
       "      <td>299</td>\n",
       "      <td>2025-06-22</td>\n",
       "    </tr>\n",
       "    <tr>\n",
       "      <th>3</th>\n",
       "      <td>waharaa</td>\n",
       "      <td>sorcerer</td>\n",
       "      <td>81</td>\n",
       "      <td>100378</td>\n",
       "      <td>34</td>\n",
       "      <td>2025-06-22</td>\n",
       "    </tr>\n",
       "    <tr>\n",
       "      <th>4</th>\n",
       "      <td>taldodavid</td>\n",
       "      <td>arbalist</td>\n",
       "      <td>131</td>\n",
       "      <td>241024</td>\n",
       "      <td>240</td>\n",
       "      <td>2025-06-22</td>\n",
       "    </tr>\n",
       "  </tbody>\n",
       "</table>\n",
       "</div>"
      ],
      "text/plain": [
       "         name     class  level   power  price        date\n",
       "0           s  arbalist    142  321708    550  2025-06-22\n",
       "1         NaN    taoist     85  102142     34  2025-06-22\n",
       "2      Gunner  arbalist    140  300024    299  2025-06-22\n",
       "3     waharaa  sorcerer     81  100378     34  2025-06-22\n",
       "4  taldodavid  arbalist    131  241024    240  2025-06-22"
      ]
     },
     "execution_count": 41,
     "metadata": {},
     "output_type": "execute_result"
    }
   ],
   "source": [
    "# From now on we'll treat the Data Frame 'df' as 'dataset'\n",
    "dataset = df\n",
    "dataset.head(5)"
   ]
  },
  {
   "cell_type": "code",
   "execution_count": 42,
   "id": "1666ae3a",
   "metadata": {
    "papermill": {
     "duration": 0.028786,
     "end_time": "2025-01-26T01:27:27.005198",
     "exception": false,
     "start_time": "2025-01-26T01:27:26.976412",
     "status": "completed"
    },
    "tags": []
   },
   "outputs": [
    {
     "name": "stdout",
     "output_type": "stream",
     "text": [
      "Missing data per column\n",
      " name     7\n",
      "class    0\n",
      "level    0\n",
      "power    0\n",
      "price    0\n",
      "date     0\n",
      "dtype: int64\n"
     ]
    }
   ],
   "source": [
    "# Looking for missing data\n",
    "missing_data = dataset.isnull().sum()\n",
    "print('Missing data per column\\n', missing_data)"
   ]
  },
  {
   "cell_type": "code",
   "execution_count": 43,
   "id": "3fad3426",
   "metadata": {
    "papermill": {
     "duration": 0.02734,
     "end_time": "2025-01-26T01:27:27.051348",
     "exception": false,
     "start_time": "2025-01-26T01:27:27.024008",
     "status": "completed"
    },
    "tags": []
   },
   "outputs": [],
   "source": [
    "# Separating target variable from features, for polynomial regression i will take power only\n",
    "X = dataset.iloc[:, 3:-2].values\n",
    "y = dataset.iloc[:, -2].values"
   ]
  },
  {
   "cell_type": "code",
   "execution_count": 44,
   "id": "c13cf588",
   "metadata": {
    "papermill": {
     "duration": 0.027457,
     "end_time": "2025-01-26T01:27:27.097629",
     "exception": false,
     "start_time": "2025-01-26T01:27:27.070172",
     "status": "completed"
    },
    "tags": []
   },
   "outputs": [
    {
     "name": "stdout",
     "output_type": "stream",
     "text": [
      "[[321708]\n",
      " [102142]\n",
      " [300024]\n",
      " ...\n",
      " [237919]\n",
      " [127952]\n",
      " [107376]]\n"
     ]
    }
   ],
   "source": [
    "print(X)"
   ]
  },
  {
   "cell_type": "code",
   "execution_count": 45,
   "id": "88d1e8ae",
   "metadata": {
    "papermill": {
     "duration": 0.026646,
     "end_time": "2025-01-26T01:27:27.144043",
     "exception": false,
     "start_time": "2025-01-26T01:27:27.117397",
     "status": "completed"
    },
    "tags": []
   },
   "outputs": [
    {
     "name": "stdout",
     "output_type": "stream",
     "text": [
      "[550  34 299 ... 313 179 179]\n"
     ]
    }
   ],
   "source": [
    "print(y)"
   ]
  },
  {
   "cell_type": "markdown",
   "id": "d7d406b1",
   "metadata": {
    "papermill": {
     "duration": 0.018587,
     "end_time": "2025-01-26T01:27:27.181447",
     "exception": false,
     "start_time": "2025-01-26T01:27:27.162860",
     "status": "completed"
    },
    "tags": []
   },
   "source": [
    "# 5.2 Splitting dataset into Train and Test sets"
   ]
  },
  {
   "cell_type": "code",
   "execution_count": 47,
   "id": "f0afc054",
   "metadata": {
    "papermill": {
     "duration": 0.379207,
     "end_time": "2025-01-26T01:27:27.579705",
     "exception": false,
     "start_time": "2025-01-26T01:27:27.200498",
     "status": "completed"
    },
    "tags": []
   },
   "outputs": [],
   "source": [
    "from sklearn.model_selection import train_test_split\n",
    "X_train, X_test, y_train, y_test = train_test_split(X, y, test_size=0.2, random_state=1)"
   ]
  },
  {
   "cell_type": "markdown",
   "id": "4700fc2d",
   "metadata": {
    "papermill": {
     "duration": 0.018784,
     "end_time": "2025-01-26T01:27:27.618242",
     "exception": false,
     "start_time": "2025-01-26T01:27:27.599458",
     "status": "completed"
    },
    "tags": []
   },
   "source": [
    "# 6. Polynomial Regression"
   ]
  },
  {
   "cell_type": "markdown",
   "id": "49f0ac3a",
   "metadata": {
    "papermill": {
     "duration": 0.018704,
     "end_time": "2025-01-26T01:27:27.655962",
     "exception": false,
     "start_time": "2025-01-26T01:27:27.637258",
     "status": "completed"
    },
    "tags": []
   },
   "source": [
    "As we say in the EDA Section, the correlation between power and price seems to be polynomial. Also, the price strongly correlated to power rather than level or class."
   ]
  },
  {
   "cell_type": "code",
   "execution_count": 50,
   "id": "df92c6d2",
   "metadata": {
    "papermill": {
     "duration": 0.344379,
     "end_time": "2025-01-26T01:27:28.019299",
     "exception": false,
     "start_time": "2025-01-26T01:27:27.674920",
     "status": "completed"
    },
    "tags": []
   },
   "outputs": [
    {
     "data": {
      "text/plain": [
       "Text(0, 0.5, 'Price (Wemix)')"
      ]
     },
     "execution_count": 50,
     "metadata": {},
     "output_type": "execute_result"
    },
    {
     "data": {
      "image/png": "[encoded data removed]",
      "text/plain": [
       "<Figure size 640x480 with 1 Axes>"
      ]
     },
     "metadata": {},
     "output_type": "display_data"
    }
   ],
   "source": [
    "# Visualizing Power vs Price\n",
    "plt.scatter(X, y, color='red')\n",
    "plt.title('Power vs Price')\n",
    "plt.xlabel('Power Score')\n",
    "plt.ylabel('Price (Wemix)')"
   ]
  },
  {
   "cell_type": "code",
   "execution_count": 51,
   "id": "52eee90b",
   "metadata": {
    "papermill": {
     "duration": 0.185302,
     "end_time": "2025-01-26T01:27:28.273257",
     "exception": false,
     "start_time": "2025-01-26T01:27:28.087955",
     "status": "completed"
    },
    "tags": []
   },
   "outputs": [
    {
     "data": {
      "text/html": [
       "<style>#sk-container-id-1 {\n",
       "  /* Definition of color scheme common for light and dark mode */\n",
       "  --sklearn-color-text: #000;\n",
       "  --sklearn-color-text-muted: #666;\n",
       "  --sklearn-color-line: gray;\n",
       "  /* Definition of color scheme for unfitted estimators */\n",
       "  --sklearn-color-unfitted-level-0: #fff5e6;\n",
       "  --sklearn-color-unfitted-level-1: #f6e4d2;\n",
       "  --sklearn-color-unfitted-level-2: #ffe0b3;\n",
       "  --sklearn-color-unfitted-level-3: chocolate;\n",
       "  /* Definition of color scheme for fitted estimators */\n",
       "  --sklearn-color-fitted-level-0: #f0f8ff;\n",
       "  --sklearn-color-fitted-level-1: #d4ebff;\n",
       "  --sklearn-color-fitted-level-2: #b3dbfd;\n",
       "  --sklearn-color-fitted-level-3: cornflowerblue;\n",
       "\n",
       "  /* Specific color for light theme */\n",
       "  --sklearn-color-text-on-default-background: var(--sg-text-color, var(--theme-code-foreground, var(--jp-content-font-color1, black)));\n",
       "  --sklearn-color-background: var(--sg-background-color, var(--theme-background, var(--jp-layout-color0, white)));\n",
       "  --sklearn-color-border-box: var(--sg-text-color, var(--theme-code-foreground, var(--jp-content-font-color1, black)));\n",
       "  --sklearn-color-icon: #696969;\n",
       "\n",
       "  @media (prefers-color-scheme: dark) {\n",
       "    /* Redefinition of color scheme for dark theme */\n",
       "    --sklearn-color-text-on-default-background: var(--sg-text-color, var(--theme-code-foreground, var(--jp-content-font-color1, white)));\n",
       "    --sklearn-color-background: var(--sg-background-color, var(--theme-background, var(--jp-layout-color0, #111)));\n",
       "    --sklearn-color-border-box: var(--sg-text-color, var(--theme-code-foreground, var(--jp-content-font-color1, white)));\n",
       "    --sklearn-color-icon: #878787;\n",
       "  }\n",
       "}\n",
       "\n",
       "#sk-container-id-1 {\n",
       "  color: var(--sklearn-color-text);\n",
       "}\n",
       "\n",
       "#sk-container-id-1 pre {\n",
       "  padding: 0;\n",
       "}\n",
       "\n",
       "#sk-container-id-1 input.sk-hidden--visually {\n",
       "  border: 0;\n",
       "  clip: rect(1px 1px 1px 1px);\n",
       "  clip: rect(1px, 1px, 1px, 1px);\n",
       "  height: 1px;\n",
       "  margin: -1px;\n",
       "  overflow: hidden;\n",
       "  padding: 0;\n",
       "  position: absolute;\n",
       "  width: 1px;\n",
       "}\n",
       "\n",
       "#sk-container-id-1 div.sk-dashed-wrapped {\n",
       "  border: 1px dashed var(--sklearn-color-line);\n",
       "  margin: 0 0.4em 0.5em 0.4em;\n",
       "  box-sizing: border-box;\n",
       "  padding-bottom: 0.4em;\n",
       "  background-color: var(--sklearn-color-background);\n",
       "}\n",
       "\n",
       "#sk-container-id-1 div.sk-container {\n",
       "  /* jupyter's `normalize.less` sets `[hidden] { display: none; }`\n",
       "     but bootstrap.min.css set `[hidden] { display: none !important; }`\n",
       "     so we also need the `!important` here to be able to override the\n",
       "     default hidden behavior on the sphinx rendered scikit-learn.org.\n",
       "     See: https://github.com/scikit-learn/scikit-learn/issues/21755 */\n",
       "  display: inline-block !important;\n",
       "  position: relative;\n",
       "}\n",
       "\n",
       "#sk-container-id-1 div.sk-text-repr-fallback {\n",
       "  display: none;\n",
       "}\n",
       "\n",
       "div.sk-parallel-item,\n",
       "div.sk-serial,\n",
       "div.sk-item {\n",
       "  /* draw centered vertical line to link estimators */\n",
       "  background-image: linear-gradient(var(--sklearn-color-text-on-default-background), var(--sklearn-color-text-on-default-background));\n",
       "  background-size: 2px 100%;\n",
       "  background-repeat: no-repeat;\n",
       "  background-position: center center;\n",
       "}\n",
       "\n",
       "/* Parallel-specific style estimator block */\n",
       "\n",
       "#sk-container-id-1 div.sk-parallel-item::after {\n",
       "  content: \"\";\n",
       "  width: 100%;\n",
       "  border-bottom: 2px solid var(--sklearn-color-text-on-default-background);\n",
       "  flex-grow: 1;\n",
       "}\n",
       "\n",
       "#sk-container-id-1 div.sk-parallel {\n",
       "  display: flex;\n",
       "  align-items: stretch;\n",
       "  justify-content: center;\n",
       "  background-color: var(--sklearn-color-background);\n",
       "  position: relative;\n",
       "}\n",
       "\n",
       "#sk-container-id-1 div.sk-parallel-item {\n",
       "  display: flex;\n",
       "  flex-direction: column;\n",
       "}\n",
       "\n",
       "#sk-container-id-1 div.sk-parallel-item:first-child::after {\n",
       "  align-self: flex-end;\n",
       "  width: 50%;\n",
       "}\n",
       "\n",
       "#sk-container-id-1 div.sk-parallel-item:last-child::after {\n",
       "  align-self: flex-start;\n",
       "  width: 50%;\n",
       "}\n",
       "\n",
       "#sk-container-id-1 div.sk-parallel-item:only-child::after {\n",
       "  width: 0;\n",
       "}\n",
       "\n",
       "/* Serial-specific style estimator block */\n",
       "\n",
       "#sk-container-id-1 div.sk-serial {\n",
       "  display: flex;\n",
       "  flex-direction: column;\n",
       "  align-items: center;\n",
       "  background-color: var(--sklearn-color-background);\n",
       "  padding-right: 1em;\n",
       "  padding-left: 1em;\n",
       "}\n",
       "\n",
       "\n",
       "/* Toggleable style: style used for estimator/Pipeline/ColumnTransformer box that is\n",
       "clickable and can be expanded/collapsed.\n",
       "- Pipeline and ColumnTransformer use this feature and define the default style\n",
       "- Estimators will overwrite some part of the style using the `sk-estimator` class\n",
       "*/\n",
       "\n",
       "/* Pipeline and ColumnTransformer style (default) */\n",
       "\n",
       "#sk-container-id-1 div.sk-toggleable {\n",
       "  /* Default theme specific background. It is overwritten whether we have a\n",
       "  specific estimator or a Pipeline/ColumnTransformer */\n",
       "  background-color: var(--sklearn-color-background);\n",
       "}\n",
       "\n",
       "/* Toggleable label */\n",
       "#sk-container-id-1 label.sk-toggleable__label {\n",
       "  cursor: pointer;\n",
       "  display: flex;\n",
       "  width: 100%;\n",
       "  margin-bottom: 0;\n",
       "  padding: 0.5em;\n",
       "  box-sizing: border-box;\n",
       "  text-align: center;\n",
       "  align-items: start;\n",
       "  justify-content: space-between;\n",
       "  gap: 0.5em;\n",
       "}\n",
       "\n",
       "#sk-container-id-1 label.sk-toggleable__label .caption {\n",
       "  font-size: 0.6rem;\n",
       "  font-weight: lighter;\n",
       "  color: var(--sklearn-color-text-muted);\n",
       "}\n",
       "\n",
       "#sk-container-id-1 label.sk-toggleable__label-arrow:before {\n",
       "  /* Arrow on the left of the label */\n",
       "  content: \"▸\";\n",
       "  float: left;\n",
       "  margin-right: 0.25em;\n",
       "  color: var(--sklearn-color-icon);\n",
       "}\n",
       "\n",
       "#sk-container-id-1 label.sk-toggleable__label-arrow:hover:before {\n",
       "  color: var(--sklearn-color-text);\n",
       "}\n",
       "\n",
       "/* Toggleable content - dropdown */\n",
       "\n",
       "#sk-container-id-1 div.sk-toggleable__content {\n",
       "  display: none;\n",
       "  text-align: left;\n",
       "  /* unfitted */\n",
       "  background-color: var(--sklearn-color-unfitted-level-0);\n",
       "}\n",
       "\n",
       "#sk-container-id-1 div.sk-toggleable__content.fitted {\n",
       "  /* fitted */\n",
       "  background-color: var(--sklearn-color-fitted-level-0);\n",
       "}\n",
       "\n",
       "#sk-container-id-1 div.sk-toggleable__content pre {\n",
       "  margin: 0.2em;\n",
       "  border-radius: 0.25em;\n",
       "  color: var(--sklearn-color-text);\n",
       "  /* unfitted */\n",
       "  background-color: var(--sklearn-color-unfitted-level-0);\n",
       "}\n",
       "\n",
       "#sk-container-id-1 div.sk-toggleable__content.fitted pre {\n",
       "  /* unfitted */\n",
       "  background-color: var(--sklearn-color-fitted-level-0);\n",
       "}\n",
       "\n",
       "#sk-container-id-1 input.sk-toggleable__control:checked~div.sk-toggleable__content {\n",
       "  /* Expand drop-down */\n",
       "  display: block;\n",
       "  width: 100%;\n",
       "  overflow: visible;\n",
       "}\n",
       "\n",
       "#sk-container-id-1 input.sk-toggleable__control:checked~label.sk-toggleable__label-arrow:before {\n",
       "  content: \"▾\";\n",
       "}\n",
       "\n",
       "/* Pipeline/ColumnTransformer-specific style */\n",
       "\n",
       "#sk-container-id-1 div.sk-label input.sk-toggleable__control:checked~label.sk-toggleable__label {\n",
       "  color: var(--sklearn-color-text);\n",
       "  background-color: var(--sklearn-color-unfitted-level-2);\n",
       "}\n",
       "\n",
       "#sk-container-id-1 div.sk-label.fitted input.sk-toggleable__control:checked~label.sk-toggleable__label {\n",
       "  background-color: var(--sklearn-color-fitted-level-2);\n",
       "}\n",
       "\n",
       "/* Estimator-specific style */\n",
       "\n",
       "/* Colorize estimator box */\n",
       "#sk-container-id-1 div.sk-estimator input.sk-toggleable__control:checked~label.sk-toggleable__label {\n",
       "  /* unfitted */\n",
       "  background-color: var(--sklearn-color-unfitted-level-2);\n",
       "}\n",
       "\n",
       "#sk-container-id-1 div.sk-estimator.fitted input.sk-toggleable__control:checked~label.sk-toggleable__label {\n",
       "  /* fitted */\n",
       "  background-color: var(--sklearn-color-fitted-level-2);\n",
       "}\n",
       "\n",
       "#sk-container-id-1 div.sk-label label.sk-toggleable__label,\n",
       "#sk-container-id-1 div.sk-label label {\n",
       "  /* The background is the default theme color */\n",
       "  color: var(--sklearn-color-text-on-default-background);\n",
       "}\n",
       "\n",
       "/* On hover, darken the color of the background */\n",
       "#sk-container-id-1 div.sk-label:hover label.sk-toggleable__label {\n",
       "  color: var(--sklearn-color-text);\n",
       "  background-color: var(--sklearn-color-unfitted-level-2);\n",
       "}\n",
       "\n",
       "/* Label box, darken color on hover, fitted */\n",
       "#sk-container-id-1 div.sk-label.fitted:hover label.sk-toggleable__label.fitted {\n",
       "  color: var(--sklearn-color-text);\n",
       "  background-color: var(--sklearn-color-fitted-level-2);\n",
       "}\n",
       "\n",
       "/* Estimator label */\n",
       "\n",
       "#sk-container-id-1 div.sk-label label {\n",
       "  font-family: monospace;\n",
       "  font-weight: bold;\n",
       "  display: inline-block;\n",
       "  line-height: 1.2em;\n",
       "}\n",
       "\n",
       "#sk-container-id-1 div.sk-label-container {\n",
       "  text-align: center;\n",
       "}\n",
       "\n",
       "/* Estimator-specific */\n",
       "#sk-container-id-1 div.sk-estimator {\n",
       "  font-family: monospace;\n",
       "  border: 1px dotted var(--sklearn-color-border-box);\n",
       "  border-radius: 0.25em;\n",
       "  box-sizing: border-box;\n",
       "  margin-bottom: 0.5em;\n",
       "  /* unfitted */\n",
       "  background-color: var(--sklearn-color-unfitted-level-0);\n",
       "}\n",
       "\n",
       "#sk-container-id-1 div.sk-estimator.fitted {\n",
       "  /* fitted */\n",
       "  background-color: var(--sklearn-color-fitted-level-0);\n",
       "}\n",
       "\n",
       "/* on hover */\n",
       "#sk-container-id-1 div.sk-estimator:hover {\n",
       "  /* unfitted */\n",
       "  background-color: var(--sklearn-color-unfitted-level-2);\n",
       "}\n",
       "\n",
       "#sk-container-id-1 div.sk-estimator.fitted:hover {\n",
       "  /* fitted */\n",
       "  background-color: var(--sklearn-color-fitted-level-2);\n",
       "}\n",
       "\n",
       "/* Specification for estimator info (e.g. \"i\" and \"?\") */\n",
       "\n",
       "/* Common style for \"i\" and \"?\" */\n",
       "\n",
       ".sk-estimator-doc-link,\n",
       "a:link.sk-estimator-doc-link,\n",
       "a:visited.sk-estimator-doc-link {\n",
       "  float: right;\n",
       "  font-size: smaller;\n",
       "  line-height: 1em;\n",
       "  font-family: monospace;\n",
       "  background-color: var(--sklearn-color-background);\n",
       "  border-radius: 1em;\n",
       "  height: 1em;\n",
       "  width: 1em;\n",
       "  text-decoration: none !important;\n",
       "  margin-left: 0.5em;\n",
       "  text-align: center;\n",
       "  /* unfitted */\n",
       "  border: var(--sklearn-color-unfitted-level-1) 1pt solid;\n",
       "  color: var(--sklearn-color-unfitted-level-1);\n",
       "}\n",
       "\n",
       ".sk-estimator-doc-link.fitted,\n",
       "a:link.sk-estimator-doc-link.fitted,\n",
       "a:visited.sk-estimator-doc-link.fitted {\n",
       "  /* fitted */\n",
       "  border: var(--sklearn-color-fitted-level-1) 1pt solid;\n",
       "  color: var(--sklearn-color-fitted-level-1);\n",
       "}\n",
       "\n",
       "/* On hover */\n",
       "div.sk-estimator:hover .sk-estimator-doc-link:hover,\n",
       ".sk-estimator-doc-link:hover,\n",
       "div.sk-label-container:hover .sk-estimator-doc-link:hover,\n",
       ".sk-estimator-doc-link:hover {\n",
       "  /* unfitted */\n",
       "  background-color: var(--sklearn-color-unfitted-level-3);\n",
       "  color: var(--sklearn-color-background);\n",
       "  text-decoration: none;\n",
       "}\n",
       "\n",
       "div.sk-estimator.fitted:hover .sk-estimator-doc-link.fitted:hover,\n",
       ".sk-estimator-doc-link.fitted:hover,\n",
       "div.sk-label-container:hover .sk-estimator-doc-link.fitted:hover,\n",
       ".sk-estimator-doc-link.fitted:hover {\n",
       "  /* fitted */\n",
       "  background-color: var(--sklearn-color-fitted-level-3);\n",
       "  color: var(--sklearn-color-background);\n",
       "  text-decoration: none;\n",
       "}\n",
       "\n",
       "/* Span, style for the box shown on hovering the info icon */\n",
       ".sk-estimator-doc-link span {\n",
       "  display: none;\n",
       "  z-index: 9999;\n",
       "  position: relative;\n",
       "  font-weight: normal;\n",
       "  right: .2ex;\n",
       "  padding: .5ex;\n",
       "  margin: .5ex;\n",
       "  width: min-content;\n",
       "  min-width: 20ex;\n",
       "  max-width: 50ex;\n",
       "  color: var(--sklearn-color-text);\n",
       "  box-shadow: 2pt 2pt 4pt #999;\n",
       "  /* unfitted */\n",
       "  background: var(--sklearn-color-unfitted-level-0);\n",
       "  border: .5pt solid var(--sklearn-color-unfitted-level-3);\n",
       "}\n",
       "\n",
       ".sk-estimator-doc-link.fitted span {\n",
       "  /* fitted */\n",
       "  background: var(--sklearn-color-fitted-level-0);\n",
       "  border: var(--sklearn-color-fitted-level-3);\n",
       "}\n",
       "\n",
       ".sk-estimator-doc-link:hover span {\n",
       "  display: block;\n",
       "}\n",
       "\n",
       "/* \"?\"-specific style due to the `<a>` HTML tag */\n",
       "\n",
       "#sk-container-id-1 a.estimator_doc_link {\n",
       "  float: right;\n",
       "  font-size: 1rem;\n",
       "  line-height: 1em;\n",
       "  font-family: monospace;\n",
       "  background-color: var(--sklearn-color-background);\n",
       "  border-radius: 1rem;\n",
       "  height: 1rem;\n",
       "  width: 1rem;\n",
       "  text-decoration: none;\n",
       "  /* unfitted */\n",
       "  color: var(--sklearn-color-unfitted-level-1);\n",
       "  border: var(--sklearn-color-unfitted-level-1) 1pt solid;\n",
       "}\n",
       "\n",
       "#sk-container-id-1 a.estimator_doc_link.fitted {\n",
       "  /* fitted */\n",
       "  border: var(--sklearn-color-fitted-level-1) 1pt solid;\n",
       "  color: var(--sklearn-color-fitted-level-1);\n",
       "}\n",
       "\n",
       "/* On hover */\n",
       "#sk-container-id-1 a.estimator_doc_link:hover {\n",
       "  /* unfitted */\n",
       "  background-color: var(--sklearn-color-unfitted-level-3);\n",
       "  color: var(--sklearn-color-background);\n",
       "  text-decoration: none;\n",
       "}\n",
       "\n",
       "#sk-container-id-1 a.estimator_doc_link.fitted:hover {\n",
       "  /* fitted */\n",
       "  background-color: var(--sklearn-color-fitted-level-3);\n",
       "}\n",
       "\n",
       ".estimator-table summary {\n",
       "    padding: .5rem;\n",
       "    font-family: monospace;\n",
       "    cursor: pointer;\n",
       "}\n",
       "\n",
       ".estimator-table details[open] {\n",
       "    padding-left: 0.1rem;\n",
       "    padding-right: 0.1rem;\n",
       "    padding-bottom: 0.3rem;\n",
       "}\n",
       "\n",
       ".estimator-table .parameters-table {\n",
       "    margin-left: auto !important;\n",
       "    margin-right: auto !important;\n",
       "}\n",
       "\n",
       ".estimator-table .parameters-table tr:nth-child(odd) {\n",
       "    background-color: #fff;\n",
       "}\n",
       "\n",
       ".estimator-table .parameters-table tr:nth-child(even) {\n",
       "    background-color: #f6f6f6;\n",
       "}\n",
       "\n",
       ".estimator-table .parameters-table tr:hover {\n",
       "    background-color: #e0e0e0;\n",
       "}\n",
       "\n",
       ".estimator-table table td {\n",
       "    border: 1px solid rgba(106, 105, 104, 0.232);\n",
       "}\n",
       "\n",
       ".user-set td {\n",
       "    color:rgb(255, 94, 0);\n",
       "    text-align: left;\n",
       "}\n",
       "\n",
       ".user-set td.value pre {\n",
       "    color:rgb(255, 94, 0) !important;\n",
       "    background-color: transparent !important;\n",
       "}\n",
       "\n",
       ".default td {\n",
       "    color: black;\n",
       "    text-align: left;\n",
       "}\n",
       "\n",
       ".user-set td i,\n",
       ".default td i {\n",
       "    color: black;\n",
       "}\n",
       "\n",
       ".copy-paste-icon {\n",
       "    background-image: url(data:image/svg+xml;base64,PHN2ZyB4bWxucz0iaHR0cDovL3d3dy53My5vcmcvMjAwMC9zdmciIHZpZXdCb3g9IjAgMCA0NDggNTEyIj48IS0tIUZvbnQgQXdlc29tZSBGcmVlIDYuNy4yIGJ5IEBmb250YXdlc29tZSAtIGh0dHBzOi8vZm9udGF3ZXNvbWUuY29tIExpY2Vuc2UgLSBodHRwczovL2ZvbnRhd2Vzb21lLmNvbS9saWNlbnNlL2ZyZWUgQ29weXJpZ2h0IDIwMjUgRm9udGljb25zLCBJbmMuLS0+PHBhdGggZD0iTTIwOCAwTDMzMi4xIDBjMTIuNyAwIDI0LjkgNS4xIDMzLjkgMTQuMWw2Ny45IDY3LjljOSA5IDE0LjEgMjEuMiAxNC4xIDMzLjlMNDQ4IDMzNmMwIDI2LjUtMjEuNSA0OC00OCA0OGwtMTkyIDBjLTI2LjUgMC00OC0yMS41LTQ4LTQ4bDAtMjg4YzAtMjYuNSAyMS41LTQ4IDQ4LTQ4ek00OCAxMjhsODAgMCAwIDY0LTY0IDAgMCAyNTYgMTkyIDAgMC0zMiA2NCAwIDAgNDhjMCAyNi41LTIxLjUgNDgtNDggNDhMNDggNTEyYy0yNi41IDAtNDgtMjEuNS00OC00OEwwIDE3NmMwLTI2LjUgMjEuNS00OCA0OC00OHoiLz48L3N2Zz4=);\n",
       "    background-repeat: no-repeat;\n",
       "    background-size: 14px 14px;\n",
       "    background-position: 0;\n",
       "    display: inline-block;\n",
       "    width: 14px;\n",
       "    height: 14px;\n",
       "    cursor: pointer;\n",
       "}\n",
       "</style><body><div id=\"sk-container-id-1\" class=\"sk-top-container\"><div class=\"sk-text-repr-fallback\"><pre>LinearRegression()</pre><b>In a Jupyter environment, please rerun this cell to show the HTML representation or trust the notebook. <br />On GitHub, the HTML representation is unable to render, please try loading this page with nbviewer.org.</b></div><div class=\"sk-container\" hidden><div class=\"sk-item\"><div class=\"sk-estimator fitted sk-toggleable\"><input class=\"sk-toggleable__control sk-hidden--visually\" id=\"sk-estimator-id-1\" type=\"checkbox\" checked><label for=\"sk-estimator-id-1\" class=\"sk-toggleable__label fitted sk-toggleable__label-arrow\"><div><div>LinearRegression</div></div><div><a class=\"sk-estimator-doc-link fitted\" rel=\"noreferrer\" target=\"_blank\" href=\"https://scikit-learn.org/1.7/modules/generated/sklearn.linear_model.LinearRegression.html\">?<span>Documentation for LinearRegression</span></a><span class=\"sk-estimator-doc-link fitted\">i<span>Fitted</span></span></div></label><div class=\"sk-toggleable__content fitted\" data-param-prefix=\"\">\n",
       "        <div class=\"estimator-table\">\n",
       "            <details>\n",
       "                <summary>Parameters</summary>\n",
       "                <table class=\"parameters-table\">\n",
       "                  <tbody>\n",
       "                    \n",
       "        <tr class=\"default\">\n",
       "            <td><i class=\"copy-paste-icon\"\n",
       "                 onclick=\"copyToClipboard('fit_intercept',\n",
       "                          this.parentElement.nextElementSibling)\"\n",
       "            ></i></td>\n",
       "            <td class=\"param\">fit_intercept&nbsp;</td>\n",
       "            <td class=\"value\">True</td>\n",
       "        </tr>\n",
       "    \n",
       "\n",
       "        <tr class=\"default\">\n",
       "            <td><i class=\"copy-paste-icon\"\n",
       "                 onclick=\"copyToClipboard('copy_X',\n",
       "                          this.parentElement.nextElementSibling)\"\n",
       "            ></i></td>\n",
       "            <td class=\"param\">copy_X&nbsp;</td>\n",
       "            <td class=\"value\">True</td>\n",
       "        </tr>\n",
       "    \n",
       "\n",
       "        <tr class=\"default\">\n",
       "            <td><i class=\"copy-paste-icon\"\n",
       "                 onclick=\"copyToClipboard('tol',\n",
       "                          this.parentElement.nextElementSibling)\"\n",
       "            ></i></td>\n",
       "            <td class=\"param\">tol&nbsp;</td>\n",
       "            <td class=\"value\">1e-06</td>\n",
       "        </tr>\n",
       "    \n",
       "\n",
       "        <tr class=\"default\">\n",
       "            <td><i class=\"copy-paste-icon\"\n",
       "                 onclick=\"copyToClipboard('n_jobs',\n",
       "                          this.parentElement.nextElementSibling)\"\n",
       "            ></i></td>\n",
       "            <td class=\"param\">n_jobs&nbsp;</td>\n",
       "            <td class=\"value\">None</td>\n",
       "        </tr>\n",
       "    \n",
       "\n",
       "        <tr class=\"default\">\n",
       "            <td><i class=\"copy-paste-icon\"\n",
       "                 onclick=\"copyToClipboard('positive',\n",
       "                          this.parentElement.nextElementSibling)\"\n",
       "            ></i></td>\n",
       "            <td class=\"param\">positive&nbsp;</td>\n",
       "            <td class=\"value\">False</td>\n",
       "        </tr>\n",
       "    \n",
       "                  </tbody>\n",
       "                </table>\n",
       "            </details>\n",
       "        </div>\n",
       "    </div></div></div></div></div><script>function copyToClipboard(text, element) {\n",
       "    // Get the parameter prefix from the closest toggleable content\n",
       "    const toggleableContent = element.closest('.sk-toggleable__content');\n",
       "    const paramPrefix = toggleableContent ? toggleableContent.dataset.paramPrefix : '';\n",
       "    const fullParamName = paramPrefix ? `${paramPrefix}${text}` : text;\n",
       "\n",
       "    const originalStyle = element.style;\n",
       "    const computedStyle = window.getComputedStyle(element);\n",
       "    const originalWidth = computedStyle.width;\n",
       "    const originalHTML = element.innerHTML.replace('Copied!', '');\n",
       "\n",
       "    navigator.clipboard.writeText(fullParamName)\n",
       "        .then(() => {\n",
       "            element.style.width = originalWidth;\n",
       "            element.style.color = 'green';\n",
       "            element.innerHTML = \"Copied!\";\n",
       "\n",
       "            setTimeout(() => {\n",
       "                element.innerHTML = originalHTML;\n",
       "                element.style = originalStyle;\n",
       "            }, 2000);\n",
       "        })\n",
       "        .catch(err => {\n",
       "            console.error('Failed to copy:', err);\n",
       "            element.style.color = 'red';\n",
       "            element.innerHTML = \"Failed!\";\n",
       "            setTimeout(() => {\n",
       "                element.innerHTML = originalHTML;\n",
       "                element.style = originalStyle;\n",
       "            }, 2000);\n",
       "        });\n",
       "    return false;\n",
       "}\n",
       "\n",
       "document.querySelectorAll('.fa-regular.fa-copy').forEach(function(element) {\n",
       "    const toggleableContent = element.closest('.sk-toggleable__content');\n",
       "    const paramPrefix = toggleableContent ? toggleableContent.dataset.paramPrefix : '';\n",
       "    const paramName = element.parentElement.nextElementSibling.textContent.trim();\n",
       "    const fullParamName = paramPrefix ? `${paramPrefix}${paramName}` : paramName;\n",
       "\n",
       "    element.setAttribute('title', fullParamName);\n",
       "});\n",
       "</script></body>"
      ],
      "text/plain": [
       "LinearRegression()"
      ]
     },
     "execution_count": 51,
     "metadata": {},
     "output_type": "execute_result"
    }
   ],
   "source": [
    "# Training Polynomial Regression\n",
    "from sklearn.preprocessing import PolynomialFeatures\n",
    "from sklearn.linear_model import LinearRegression\n",
    "\n",
    "poly_reg = PolynomialFeatures(degree=6)\n",
    "X_poly = poly_reg.fit_transform(X_train)\n",
    "regressor = LinearRegression()\n",
    "regressor.fit(X_poly, y_train)"
   ]
  },
  {
   "cell_type": "code",
   "execution_count": 52,
   "id": "b9713aa3",
   "metadata": {
    "papermill": {
     "duration": 0.453193,
     "end_time": "2025-01-26T01:27:28.761656",
     "exception": false,
     "start_time": "2025-01-26T01:27:28.308463",
     "status": "completed"
    },
    "tags": []
   },
   "outputs": [
    {
     "data": {
      "image/png": "[encoded data removed]",
      "text/plain": [
       "<Figure size 640x480 with 1 Axes>"
      ]
     },
     "metadata": {},
     "output_type": "display_data"
    }
   ],
   "source": [
    "# Plot training points\n",
    "plt.scatter(X_train, y_train, color='red', label='Training Data')\n",
    "# Plot Polynomial Regression\n",
    "y_train_pred = regressor.predict(poly_reg.fit_transform(X_train))\n",
    "plt.scatter(X_train, y_train_pred, color='blue', label='Predicted training points')\n",
    "plt.title('Power vs Price')\n",
    "plt.xlabel('Power Score')\n",
    "plt.ylabel('Price (Wemix)')\n",
    "plt.legend()           \n",
    "plt.show()"
   ]
  },
  {
   "cell_type": "markdown",
   "id": "517e8c52",
   "metadata": {
    "papermill": {
     "duration": 0.021984,
     "end_time": "2025-01-26T01:27:28.806931",
     "exception": false,
     "start_time": "2025-01-26T01:27:28.784947",
     "status": "completed"
    },
    "tags": []
   },
   "source": [
    "# 6.1 Testing Results"
   ]
  },
  {
   "cell_type": "code",
   "execution_count": 54,
   "id": "aa47c338",
   "metadata": {
    "papermill": {
     "duration": 0.03008,
     "end_time": "2025-01-26T01:27:28.859213",
     "exception": false,
     "start_time": "2025-01-26T01:27:28.829133",
     "status": "completed"
    },
    "tags": []
   },
   "outputs": [],
   "source": [
    "# Taking a look at the model using the test set\n",
    "y_pred_test = regressor.predict(poly_reg.fit_transform(X_test))\n",
    "# print(np.concatenate((y_pred_test.reshape(len(y_pred_test),1), y_test.reshape(len(y_test),1)),1))"
   ]
  },
  {
   "cell_type": "markdown",
   "id": "28adb17c",
   "metadata": {
    "papermill": {
     "duration": 0.023054,
     "end_time": "2025-01-26T01:27:28.904596",
     "exception": false,
     "start_time": "2025-01-26T01:27:28.881542",
     "status": "completed"
    },
    "tags": []
   },
   "source": [
    "At first glance, performance is not the best, lets test obtain the metrics"
   ]
  },
  {
   "cell_type": "code",
   "execution_count": 56,
   "id": "8138b628",
   "metadata": {
    "papermill": {
     "duration": 0.035392,
     "end_time": "2025-01-26T01:27:28.962326",
     "exception": false,
     "start_time": "2025-01-26T01:27:28.926934",
     "status": "completed"
    },
    "tags": []
   },
   "outputs": [
    {
     "name": "stdout",
     "output_type": "stream",
     "text": [
      "Mean Absolute Error: 541.43\n",
      "Mean Squared Error: 660999.38\n",
      "Root Mean Squared Error: 813.02\n",
      "R-squared: 0.85\n"
     ]
    }
   ],
   "source": [
    "# Obtaining performance metrics\n",
    "from sklearn.metrics import mean_absolute_error, mean_squared_error, r2_score\n",
    "\n",
    "# Calculate MAE\n",
    "# Avg absolute errors between predicted and test values\n",
    "mae = mean_absolute_error(y_test, y_pred_test)\n",
    "print(\"Mean Absolute Error:\", round(mae, 2))\n",
    "\n",
    "# Calculate MSE\n",
    "# Avg squared errors between predicted and test values\n",
    "mse = mean_squared_error(y_test, y_pred_test)\n",
    "print(\"Mean Squared Error:\", round(mse, 2))\n",
    "\n",
    "# Calculate RMSE\n",
    "# Squared root of the MSE, which brings the metric back to the same unit as the target variable\n",
    "rmse = np.sqrt(mse)\n",
    "print(\"Root Mean Squared Error:\", round(rmse, 2))\n",
    "\n",
    "# Calculate R2\n",
    "# Proportion of variance explained by the model, Closer to 1 indicates better fit\n",
    "r2 = r2_score(y_test, y_pred_test)\n",
    "print(\"R-squared:\", round(r2, 2))"
   ]
  },
  {
   "cell_type": "code",
   "execution_count": null,
   "id": "8be9b977",
   "metadata": {
    "papermill": {
     "duration": 0.059235,
     "end_time": "2025-01-26T01:27:29.043845",
     "exception": false,
     "start_time": "2025-01-26T01:27:28.984610",
     "status": "completed"
    },
    "tags": []
   },
   "outputs": [],
   "source": []
  },
  {
   "cell_type": "markdown",
   "id": "ad8e6ab4",
   "metadata": {
    "papermill": {
     "duration": 0.0228,
     "end_time": "2025-01-26T01:27:29.088972",
     "exception": false,
     "start_time": "2025-01-26T01:27:29.066172",
     "status": "completed"
    },
    "tags": []
   },
   "source": [
    "The model might seems to be overfitted with a degree 10 Polynomial Regression. However, model predictions make sense even though the error could be high, higher power nfts are exponentially more expensive."
   ]
  },
  {
   "cell_type": "code",
   "execution_count": 58,
   "id": "dc3748db",
   "metadata": {
    "papermill": {
     "duration": 0.032535,
     "end_time": "2025-01-26T01:27:29.144335",
     "exception": false,
     "start_time": "2025-01-26T01:27:29.111800",
     "status": "completed"
    },
    "tags": []
   },
   "outputs": [
    {
     "data": {
      "text/plain": [
       "np.float64(1242.5948190490515)"
      ]
     },
     "execution_count": 58,
     "metadata": {},
     "output_type": "execute_result"
    }
   ],
   "source": [
    "# Getting Polynomial model coefficients\n",
    "coefficients = regressor.coef_\n",
    "intercept = regressor.intercept_\n",
    "intercept"
   ]
  },
  {
   "cell_type": "code",
   "execution_count": 59,
   "id": "4e0222e3",
   "metadata": {
    "papermill": {
     "duration": 0.030935,
     "end_time": "2025-01-26T01:27:29.197705",
     "exception": false,
     "start_time": "2025-01-26T01:27:29.166770",
     "status": "completed"
    },
    "tags": []
   },
   "outputs": [
    {
     "data": {
      "text/plain": [
       "array([ 0.00000000e+00, -2.53009930e-35,  9.67165233e-54, -2.82151740e-35,\n",
       "       -9.39341300e-30, -2.31869244e-24,  6.35539814e-30])"
      ]
     },
     "execution_count": 59,
     "metadata": {},
     "output_type": "execute_result"
    }
   ],
   "source": [
    "coefficients"
   ]
  },
  {
   "cell_type": "code",
   "execution_count": 107,
   "id": "0189b9ba-5628-4876-918b-0ffa344542e0",
   "metadata": {},
   "outputs": [
    {
     "name": "stdout",
     "output_type": "stream",
     "text": [
      "Predicted Price: 241.2574404659523\n"
     ]
    }
   ],
   "source": [
    "power_value = [[300000]]\n",
    "predicted_price = regressor.predict(poly_reg.transform(power_value))\n",
    "print(\"Predicted Price:\", predicted_price[0])"
   ]
  },
  {
   "cell_type": "markdown",
   "id": "4ee4cf7c",
   "metadata": {
    "papermill": {
     "duration": 0.022099,
     "end_time": "2025-01-26T01:27:29.242311",
     "exception": false,
     "start_time": "2025-01-26T01:27:29.220212",
     "status": "completed"
    },
    "tags": []
   },
   "source": [
    "# 7. Conclusions"
   ]
  },
  {
   "cell_type": "markdown",
   "id": "3f418db0",
   "metadata": {
    "execution": {
     "iopub.execute_input": "2025-01-26T01:17:45.043522Z",
     "iopub.status.busy": "2025-01-26T01:17:45.043084Z",
     "iopub.status.idle": "2025-01-26T01:17:45.050259Z",
     "shell.execute_reply": "2025-01-26T01:17:45.048792Z",
     "shell.execute_reply.started": "2025-01-26T01:17:45.043488Z"
    },
    "papermill": {
     "duration": 0.022003,
     "end_time": "2025-01-26T01:27:29.286528",
     "exception": false,
     "start_time": "2025-01-26T01:27:29.264525",
     "status": "completed"
    },
    "tags": []
   },
   "source": [
    "The Power Score of the characters is determinant to define the price, as we saw, Price<br>\n",
    "grows exponentially with the Power Score, also class might have an influence when defining<br>\n",
    "prices, Lancer class having consistent low prices, meanwhile Warrior and Arbalist classes have<br>\n",
    "more disperse prices but they can reach the highest prices among all classes. <br>\n",
    "\n",
    "Developing a Warrior or Arbalist character with high Power Scores are best options to sell, while<br>\n",
    "developing a Lancer Class character is the worst option if you want to eventually sell your<br>\n",
    "character."
   ]
  }
 ],
 "metadata": {
  "kaggle": {
   "accelerator": "none",
   "dataSources": [
    {
     "datasetId": 6436757,
     "sourceId": 10463929,
     "sourceType": "datasetVersion"
    }
   ],
   "dockerImageVersionId": 30822,
   "isGpuEnabled": false,
   "isInternetEnabled": true,
   "language": "python",
   "sourceType": "notebook"
  },
  "kernelspec": {
   "display_name": "Python [conda env:aiEnvironment]",
   "language": "python",
   "name": "conda-env-aiEnvironment-py"
  },
  "language_info": {
   "codemirror_mode": {
    "name": "ipython",
    "version": 3
   },
   "file_extension": ".py",
   "mimetype": "text/x-python",
   "name": "python",
   "nbconvert_exporter": "python",
   "pygments_lexer": "ipython3",
   "version": "3.12.11"
  },
  "papermill": {
   "default_parameters": {},
   "duration": 15.183933,
   "end_time": "2025-01-26T01:27:30.232972",
   "environment_variables": {},
   "exception": null,
   "input_path": "__notebook__.ipynb",
   "output_path": "__notebook__.ipynb",
   "parameters": {},
   "start_time": "2025-01-26T01:27:15.049039",
   "version": "2.6.0"
  }
 },
 "nbformat": 4,
 "nbformat_minor": 5
}
